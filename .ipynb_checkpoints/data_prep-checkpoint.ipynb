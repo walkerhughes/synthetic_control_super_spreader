{
 "cells": [
  {
   "cell_type": "code",
   "execution_count": 2,
   "metadata": {
    "executionInfo": {
     "elapsed": 2380,
     "status": "ok",
     "timestamp": 1606947904155,
     "user": {
      "displayName": "Walker Hughes",
      "photoUrl": "",
      "userId": "08972844504083878600"
     },
     "user_tz": 420
    },
    "id": "3R4saWd8tz4x"
   },
   "outputs": [],
   "source": [
    "import pandas as pd\n",
    "import numpy as np \n",
    "from datetime import datetime\n",
    "from numpy.linalg import norm "
   ]
  },
  {
   "cell_type": "code",
   "execution_count": 3,
   "metadata": {
    "executionInfo": {
     "elapsed": 3195,
     "status": "ok",
     "timestamp": 1606947915174,
     "user": {
      "displayName": "Walker Hughes",
      "photoUrl": "",
      "userId": "08972844504083878600"
     },
     "user_tz": 420
    },
    "id": "SVjAw3Dyt8dA"
   },
   "outputs": [],
   "source": [
    "data = pd.read_csv(\"us-counties.csv\")\n",
    "mask_data = pd.read_csv(\"mask-use-by-county.csv\") "
   ]
  },
  {
   "cell_type": "code",
   "execution_count": null,
   "metadata": {
    "colab": {
     "base_uri": "https://localhost:8080/",
     "height": 204
    },
    "executionInfo": {
     "elapsed": 562,
     "status": "ok",
     "timestamp": 1606782268387,
     "user": {
      "displayName": "Walker Hughes",
      "photoUrl": "",
      "userId": "08972844504083878600"
     },
     "user_tz": 420
    },
    "id": "ezSLC_8suAUo",
    "outputId": "29f1000b-9cf7-4249-8493-ad764d69b8e4"
   },
   "outputs": [
    {
     "data": {
      "text/html": [
       "<div>\n",
       "<style scoped>\n",
       "    .dataframe tbody tr th:only-of-type {\n",
       "        vertical-align: middle;\n",
       "    }\n",
       "\n",
       "    .dataframe tbody tr th {\n",
       "        vertical-align: top;\n",
       "    }\n",
       "\n",
       "    .dataframe thead th {\n",
       "        text-align: right;\n",
       "    }\n",
       "</style>\n",
       "<table border=\"1\" class=\"dataframe\">\n",
       "  <thead>\n",
       "    <tr style=\"text-align: right;\">\n",
       "      <th></th>\n",
       "      <th>date</th>\n",
       "      <th>county</th>\n",
       "      <th>state</th>\n",
       "      <th>fips</th>\n",
       "      <th>cases</th>\n",
       "      <th>deaths</th>\n",
       "    </tr>\n",
       "  </thead>\n",
       "  <tbody>\n",
       "    <tr>\n",
       "      <th>0</th>\n",
       "      <td>2020-01-21</td>\n",
       "      <td>Snohomish</td>\n",
       "      <td>Washington</td>\n",
       "      <td>53061.0</td>\n",
       "      <td>1</td>\n",
       "      <td>0</td>\n",
       "    </tr>\n",
       "    <tr>\n",
       "      <th>1</th>\n",
       "      <td>2020-01-22</td>\n",
       "      <td>Snohomish</td>\n",
       "      <td>Washington</td>\n",
       "      <td>53061.0</td>\n",
       "      <td>1</td>\n",
       "      <td>0</td>\n",
       "    </tr>\n",
       "    <tr>\n",
       "      <th>2</th>\n",
       "      <td>2020-01-23</td>\n",
       "      <td>Snohomish</td>\n",
       "      <td>Washington</td>\n",
       "      <td>53061.0</td>\n",
       "      <td>1</td>\n",
       "      <td>0</td>\n",
       "    </tr>\n",
       "    <tr>\n",
       "      <th>3</th>\n",
       "      <td>2020-01-24</td>\n",
       "      <td>Cook</td>\n",
       "      <td>Illinois</td>\n",
       "      <td>17031.0</td>\n",
       "      <td>1</td>\n",
       "      <td>0</td>\n",
       "    </tr>\n",
       "    <tr>\n",
       "      <th>4</th>\n",
       "      <td>2020-01-24</td>\n",
       "      <td>Snohomish</td>\n",
       "      <td>Washington</td>\n",
       "      <td>53061.0</td>\n",
       "      <td>1</td>\n",
       "      <td>0</td>\n",
       "    </tr>\n",
       "  </tbody>\n",
       "</table>\n",
       "</div>"
      ],
      "text/plain": [
       "         date     county       state     fips  cases  deaths\n",
       "0  2020-01-21  Snohomish  Washington  53061.0      1       0\n",
       "1  2020-01-22  Snohomish  Washington  53061.0      1       0\n",
       "2  2020-01-23  Snohomish  Washington  53061.0      1       0\n",
       "3  2020-01-24       Cook    Illinois  17031.0      1       0\n",
       "4  2020-01-24  Snohomish  Washington  53061.0      1       0"
      ]
     },
     "execution_count": 308,
     "metadata": {
      "tags": []
     },
     "output_type": "execute_result"
    }
   ],
   "source": [
    "data.head()"
   ]
  },
  {
   "cell_type": "code",
   "execution_count": null,
   "metadata": {
    "colab": {
     "base_uri": "https://localhost:8080/"
    },
    "executionInfo": {
     "elapsed": 776,
     "status": "ok",
     "timestamp": 1606782269935,
     "user": {
      "displayName": "Walker Hughes",
      "photoUrl": "",
      "userId": "08972844504083878600"
     },
     "user_tz": 420
    },
    "id": "DEreBhVSnpD_",
    "outputId": "909ad485-3a2c-4153-caa9-3c7e5d4b7935"
   },
   "outputs": [
    {
     "data": {
      "text/plain": [
       "(742008, 6)"
      ]
     },
     "execution_count": 309,
     "metadata": {
      "tags": []
     },
     "output_type": "execute_result"
    }
   ],
   "source": [
    "data.shape"
   ]
  },
  {
   "cell_type": "code",
   "execution_count": null,
   "metadata": {
    "colab": {
     "base_uri": "https://localhost:8080/",
     "height": 204
    },
    "executionInfo": {
     "elapsed": 749,
     "status": "ok",
     "timestamp": 1606782271187,
     "user": {
      "displayName": "Walker Hughes",
      "photoUrl": "",
      "userId": "08972844504083878600"
     },
     "user_tz": 420
    },
    "id": "iJxXb2DBmhLo",
    "outputId": "14668dcc-4b6a-4e66-b0d3-4966b47874d8"
   },
   "outputs": [
    {
     "data": {
      "text/html": [
       "<div>\n",
       "<style scoped>\n",
       "    .dataframe tbody tr th:only-of-type {\n",
       "        vertical-align: middle;\n",
       "    }\n",
       "\n",
       "    .dataframe tbody tr th {\n",
       "        vertical-align: top;\n",
       "    }\n",
       "\n",
       "    .dataframe thead th {\n",
       "        text-align: right;\n",
       "    }\n",
       "</style>\n",
       "<table border=\"1\" class=\"dataframe\">\n",
       "  <thead>\n",
       "    <tr style=\"text-align: right;\">\n",
       "      <th></th>\n",
       "      <th>date</th>\n",
       "      <th>county</th>\n",
       "      <th>state</th>\n",
       "      <th>fips</th>\n",
       "      <th>cases</th>\n",
       "      <th>deaths</th>\n",
       "    </tr>\n",
       "  </thead>\n",
       "  <tbody>\n",
       "    <tr>\n",
       "      <th>318754</th>\n",
       "      <td>2020-07-10</td>\n",
       "      <td>Autauga</td>\n",
       "      <td>Alabama</td>\n",
       "      <td>1001.0</td>\n",
       "      <td>670</td>\n",
       "      <td>15</td>\n",
       "    </tr>\n",
       "    <tr>\n",
       "      <th>318755</th>\n",
       "      <td>2020-07-10</td>\n",
       "      <td>Baldwin</td>\n",
       "      <td>Alabama</td>\n",
       "      <td>1003.0</td>\n",
       "      <td>1187</td>\n",
       "      <td>12</td>\n",
       "    </tr>\n",
       "    <tr>\n",
       "      <th>318756</th>\n",
       "      <td>2020-07-10</td>\n",
       "      <td>Barbour</td>\n",
       "      <td>Alabama</td>\n",
       "      <td>1005.0</td>\n",
       "      <td>381</td>\n",
       "      <td>2</td>\n",
       "    </tr>\n",
       "    <tr>\n",
       "      <th>318757</th>\n",
       "      <td>2020-07-10</td>\n",
       "      <td>Bibb</td>\n",
       "      <td>Alabama</td>\n",
       "      <td>1007.0</td>\n",
       "      <td>218</td>\n",
       "      <td>1</td>\n",
       "    </tr>\n",
       "    <tr>\n",
       "      <th>318758</th>\n",
       "      <td>2020-07-10</td>\n",
       "      <td>Blount</td>\n",
       "      <td>Alabama</td>\n",
       "      <td>1009.0</td>\n",
       "      <td>292</td>\n",
       "      <td>1</td>\n",
       "    </tr>\n",
       "  </tbody>\n",
       "</table>\n",
       "</div>"
      ],
      "text/plain": [
       "              date   county    state    fips  cases  deaths\n",
       "318754  2020-07-10  Autauga  Alabama  1001.0    670      15\n",
       "318755  2020-07-10  Baldwin  Alabama  1003.0   1187      12\n",
       "318756  2020-07-10  Barbour  Alabama  1005.0    381       2\n",
       "318757  2020-07-10     Bibb  Alabama  1007.0    218       1\n",
       "318758  2020-07-10   Blount  Alabama  1009.0    292       1"
      ]
     },
     "execution_count": 310,
     "metadata": {
      "tags": []
     },
     "output_type": "execute_result"
    }
   ],
   "source": [
    "data = data[(data.date >= \"2020-07-10\") & (data.date <= \"2020-09-02\")]  \n",
    "data.head()       "
   ]
  },
  {
   "cell_type": "code",
   "execution_count": null,
   "metadata": {
    "colab": {
     "base_uri": "https://localhost:8080/",
     "height": 35
    },
    "executionInfo": {
     "elapsed": 794,
     "status": "ok",
     "timestamp": 1606782274241,
     "user": {
      "displayName": "Walker Hughes",
      "photoUrl": "",
      "userId": "08972844504083878600"
     },
     "user_tz": 420
    },
    "id": "PcWXktYimpP4",
    "outputId": "4b58a829-d2c9-4f57-ac37-687d9db92b7e"
   },
   "outputs": [
    {
     "data": {
      "application/vnd.google.colaboratory.intrinsic+json": {
       "type": "string"
      },
      "text/plain": [
       "'2020-09-02'"
      ]
     },
     "execution_count": 311,
     "metadata": {
      "tags": []
     },
     "output_type": "execute_result"
    }
   ],
   "source": [
    "data.date.max()"
   ]
  },
  {
   "cell_type": "code",
   "execution_count": null,
   "metadata": {
    "colab": {
     "base_uri": "https://localhost:8080/"
    },
    "executionInfo": {
     "elapsed": 1031,
     "status": "ok",
     "timestamp": 1606782303521,
     "user": {
      "displayName": "Walker Hughes",
      "photoUrl": "",
      "userId": "08972844504083878600"
     },
     "user_tz": 420
    },
    "id": "3OcBF03xr9w3",
    "outputId": "9a0ad11f-8194-4d93-c4bd-56fb1c7859ca"
   },
   "outputs": [
    {
     "data": {
      "text/plain": [
       "(3204, 3142)"
      ]
     },
     "execution_count": 312,
     "metadata": {
      "tags": []
     },
     "output_type": "execute_result"
    }
   ],
   "source": [
    "len(data.fips.unique()), len(mask_data.COUNTYFP.unique()) "
   ]
  },
  {
   "cell_type": "code",
   "execution_count": null,
   "metadata": {
    "id": "SogSV9LMsJz8"
   },
   "outputs": [],
   "source": [
    "data_fips = set(data.fips.unique()) \n",
    "mask_fips = set(mask_data.COUNTYFP.unique()) "
   ]
  },
  {
   "cell_type": "code",
   "execution_count": null,
   "metadata": {
    "id": "RXUbjzhP2Cl5"
   },
   "outputs": [],
   "source": [
    "fips_set = data_fips.intersection(mask_fips)  "
   ]
  },
  {
   "cell_type": "code",
   "execution_count": null,
   "metadata": {
    "colab": {
     "base_uri": "https://localhost:8080/"
    },
    "executionInfo": {
     "elapsed": 881,
     "status": "ok",
     "timestamp": 1606782376429,
     "user": {
      "displayName": "Walker Hughes",
      "photoUrl": "",
      "userId": "08972844504083878600"
     },
     "user_tz": 420
    },
    "id": "ykUuZL1TuTUj",
    "outputId": "49ee490d-045a-4f85-f62a-c900a6508289"
   },
   "outputs": [
    {
     "data": {
      "text/plain": [
       "3120"
      ]
     },
     "execution_count": 315,
     "metadata": {
      "tags": []
     },
     "output_type": "execute_result"
    }
   ],
   "source": [
    "len(fips_set)"
   ]
  },
  {
   "cell_type": "code",
   "execution_count": null,
   "metadata": {
    "colab": {
     "base_uri": "https://localhost:8080/"
    },
    "executionInfo": {
     "elapsed": 1383,
     "status": "ok",
     "timestamp": 1606782383423,
     "user": {
      "displayName": "Walker Hughes",
      "photoUrl": "",
      "userId": "08972844504083878600"
     },
     "user_tz": 420
    },
    "id": "PjN2gP96ze4V",
    "outputId": "19acd15e-22cb-4973-eb93-d6d56e227876"
   },
   "outputs": [
    {
     "data": {
      "text/plain": [
       "True"
      ]
     },
     "execution_count": 316,
     "metadata": {
      "tags": []
     },
     "output_type": "execute_result"
    }
   ],
   "source": [
    "46093 in fips_set"
   ]
  },
  {
   "cell_type": "code",
   "execution_count": null,
   "metadata": {
    "id": "ETFWSOxm2f1N"
   },
   "outputs": [],
   "source": [
    "data = data[data.fips.isin(fips_set)]  \n",
    "mask_data = mask_data[mask_data.COUNTYFP.isin(fips_set)]    "
   ]
  },
  {
   "cell_type": "code",
   "execution_count": null,
   "metadata": {
    "colab": {
     "base_uri": "https://localhost:8080/"
    },
    "executionInfo": {
     "elapsed": 870,
     "status": "ok",
     "timestamp": 1606782397531,
     "user": {
      "displayName": "Walker Hughes",
      "photoUrl": "",
      "userId": "08972844504083878600"
     },
     "user_tz": 420
    },
    "id": "-5yf_oFKsYgL",
    "outputId": "6f39ddd8-15f0-4465-86c7-e8fd66b570de"
   },
   "outputs": [
    {
     "data": {
      "text/plain": [
       "(3120, 3120)"
      ]
     },
     "execution_count": 318,
     "metadata": {
      "tags": []
     },
     "output_type": "execute_result"
    }
   ],
   "source": [
    "len(data.fips.unique()), len(mask_data.COUNTYFP.unique()) "
   ]
  },
  {
   "cell_type": "code",
   "execution_count": 46,
   "metadata": {
    "executionInfo": {
     "elapsed": 1155,
     "status": "ok",
     "timestamp": 1606949810713,
     "user": {
      "displayName": "Walker Hughes",
      "photoUrl": "",
      "userId": "08972844504083878600"
     },
     "user_tz": 420
    },
    "id": "m7p0UiAvfhMd"
   },
   "outputs": [],
   "source": [
    "days = pd.date_range(start = \"2020-07-10\", end = \"2020-09-02\") "
   ]
  },
  {
   "cell_type": "code",
   "execution_count": null,
   "metadata": {
    "colab": {
     "base_uri": "https://localhost:8080/",
     "height": 204
    },
    "executionInfo": {
     "elapsed": 772,
     "status": "ok",
     "timestamp": 1606782409910,
     "user": {
      "displayName": "Walker Hughes",
      "photoUrl": "",
      "userId": "08972844504083878600"
     },
     "user_tz": 420
    },
    "id": "e7cgrAidfxm7",
    "outputId": "ed794e28-9014-455a-cd83-90e6da709ee8"
   },
   "outputs": [
    {
     "data": {
      "text/html": [
       "<div>\n",
       "<style scoped>\n",
       "    .dataframe tbody tr th:only-of-type {\n",
       "        vertical-align: middle;\n",
       "    }\n",
       "\n",
       "    .dataframe tbody tr th {\n",
       "        vertical-align: top;\n",
       "    }\n",
       "\n",
       "    .dataframe thead th {\n",
       "        text-align: right;\n",
       "    }\n",
       "</style>\n",
       "<table border=\"1\" class=\"dataframe\">\n",
       "  <thead>\n",
       "    <tr style=\"text-align: right;\">\n",
       "      <th></th>\n",
       "      <th>date</th>\n",
       "      <th>county</th>\n",
       "      <th>state</th>\n",
       "      <th>fips</th>\n",
       "      <th>cases</th>\n",
       "      <th>deaths</th>\n",
       "    </tr>\n",
       "  </thead>\n",
       "  <tbody>\n",
       "    <tr>\n",
       "      <th>318754</th>\n",
       "      <td>2020-07-10</td>\n",
       "      <td>Autauga</td>\n",
       "      <td>Alabama</td>\n",
       "      <td>1001.0</td>\n",
       "      <td>670</td>\n",
       "      <td>15</td>\n",
       "    </tr>\n",
       "    <tr>\n",
       "      <th>318755</th>\n",
       "      <td>2020-07-10</td>\n",
       "      <td>Baldwin</td>\n",
       "      <td>Alabama</td>\n",
       "      <td>1003.0</td>\n",
       "      <td>1187</td>\n",
       "      <td>12</td>\n",
       "    </tr>\n",
       "    <tr>\n",
       "      <th>318756</th>\n",
       "      <td>2020-07-10</td>\n",
       "      <td>Barbour</td>\n",
       "      <td>Alabama</td>\n",
       "      <td>1005.0</td>\n",
       "      <td>381</td>\n",
       "      <td>2</td>\n",
       "    </tr>\n",
       "    <tr>\n",
       "      <th>318757</th>\n",
       "      <td>2020-07-10</td>\n",
       "      <td>Bibb</td>\n",
       "      <td>Alabama</td>\n",
       "      <td>1007.0</td>\n",
       "      <td>218</td>\n",
       "      <td>1</td>\n",
       "    </tr>\n",
       "    <tr>\n",
       "      <th>318758</th>\n",
       "      <td>2020-07-10</td>\n",
       "      <td>Blount</td>\n",
       "      <td>Alabama</td>\n",
       "      <td>1009.0</td>\n",
       "      <td>292</td>\n",
       "      <td>1</td>\n",
       "    </tr>\n",
       "  </tbody>\n",
       "</table>\n",
       "</div>"
      ],
      "text/plain": [
       "              date   county    state    fips  cases  deaths\n",
       "318754  2020-07-10  Autauga  Alabama  1001.0    670      15\n",
       "318755  2020-07-10  Baldwin  Alabama  1003.0   1187      12\n",
       "318756  2020-07-10  Barbour  Alabama  1005.0    381       2\n",
       "318757  2020-07-10     Bibb  Alabama  1007.0    218       1\n",
       "318758  2020-07-10   Blount  Alabama  1009.0    292       1"
      ]
     },
     "execution_count": 320,
     "metadata": {
      "tags": []
     },
     "output_type": "execute_result"
    }
   ],
   "source": [
    "data.head()"
   ]
  },
  {
   "cell_type": "code",
   "execution_count": null,
   "metadata": {
    "id": "jxuMn6KQhn9A"
   },
   "outputs": [],
   "source": [
    "data.county += \" \" + data.state "
   ]
  },
  {
   "cell_type": "code",
   "execution_count": null,
   "metadata": {
    "colab": {
     "base_uri": "https://localhost:8080/"
    },
    "executionInfo": {
     "elapsed": 375,
     "status": "ok",
     "timestamp": 1606782414759,
     "user": {
      "displayName": "Walker Hughes",
      "photoUrl": "",
      "userId": "08972844504083878600"
     },
     "user_tz": 420
    },
    "id": "ONyk8Z6vhvzF",
    "outputId": "4d71a1eb-8efe-4716-d238-1061db80b479"
   },
   "outputs": [
    {
     "data": {
      "text/plain": [
       "3120"
      ]
     },
     "execution_count": 322,
     "metadata": {
      "tags": []
     },
     "output_type": "execute_result"
    }
   ],
   "source": [
    "len(data.county.unique())"
   ]
  },
  {
   "cell_type": "code",
   "execution_count": null,
   "metadata": {
    "colab": {
     "base_uri": "https://localhost:8080/",
     "height": 204
    },
    "executionInfo": {
     "elapsed": 595,
     "status": "ok",
     "timestamp": 1606782423765,
     "user": {
      "displayName": "Walker Hughes",
      "photoUrl": "",
      "userId": "08972844504083878600"
     },
     "user_tz": 420
    },
    "id": "bLi36DUyjTuK",
    "outputId": "4a9ba564-8991-4228-f2ee-744f045259c1"
   },
   "outputs": [
    {
     "data": {
      "text/html": [
       "<div>\n",
       "<style scoped>\n",
       "    .dataframe tbody tr th:only-of-type {\n",
       "        vertical-align: middle;\n",
       "    }\n",
       "\n",
       "    .dataframe tbody tr th {\n",
       "        vertical-align: top;\n",
       "    }\n",
       "\n",
       "    .dataframe thead th {\n",
       "        text-align: right;\n",
       "    }\n",
       "</style>\n",
       "<table border=\"1\" class=\"dataframe\">\n",
       "  <thead>\n",
       "    <tr style=\"text-align: right;\">\n",
       "      <th></th>\n",
       "      <th>date</th>\n",
       "      <th>county</th>\n",
       "      <th>state</th>\n",
       "      <th>fips</th>\n",
       "      <th>cases</th>\n",
       "      <th>deaths</th>\n",
       "    </tr>\n",
       "  </thead>\n",
       "  <tbody>\n",
       "    <tr>\n",
       "      <th>318754</th>\n",
       "      <td>2020-07-10</td>\n",
       "      <td>Autauga Alabama</td>\n",
       "      <td>Alabama</td>\n",
       "      <td>1001.0</td>\n",
       "      <td>670</td>\n",
       "      <td>15</td>\n",
       "    </tr>\n",
       "    <tr>\n",
       "      <th>318755</th>\n",
       "      <td>2020-07-10</td>\n",
       "      <td>Baldwin Alabama</td>\n",
       "      <td>Alabama</td>\n",
       "      <td>1003.0</td>\n",
       "      <td>1187</td>\n",
       "      <td>12</td>\n",
       "    </tr>\n",
       "    <tr>\n",
       "      <th>318756</th>\n",
       "      <td>2020-07-10</td>\n",
       "      <td>Barbour Alabama</td>\n",
       "      <td>Alabama</td>\n",
       "      <td>1005.0</td>\n",
       "      <td>381</td>\n",
       "      <td>2</td>\n",
       "    </tr>\n",
       "    <tr>\n",
       "      <th>318757</th>\n",
       "      <td>2020-07-10</td>\n",
       "      <td>Bibb Alabama</td>\n",
       "      <td>Alabama</td>\n",
       "      <td>1007.0</td>\n",
       "      <td>218</td>\n",
       "      <td>1</td>\n",
       "    </tr>\n",
       "    <tr>\n",
       "      <th>318758</th>\n",
       "      <td>2020-07-10</td>\n",
       "      <td>Blount Alabama</td>\n",
       "      <td>Alabama</td>\n",
       "      <td>1009.0</td>\n",
       "      <td>292</td>\n",
       "      <td>1</td>\n",
       "    </tr>\n",
       "  </tbody>\n",
       "</table>\n",
       "</div>"
      ],
      "text/plain": [
       "              date           county    state    fips  cases  deaths\n",
       "318754  2020-07-10  Autauga Alabama  Alabama  1001.0    670      15\n",
       "318755  2020-07-10  Baldwin Alabama  Alabama  1003.0   1187      12\n",
       "318756  2020-07-10  Barbour Alabama  Alabama  1005.0    381       2\n",
       "318757  2020-07-10     Bibb Alabama  Alabama  1007.0    218       1\n",
       "318758  2020-07-10   Blount Alabama  Alabama  1009.0    292       1"
      ]
     },
     "execution_count": 323,
     "metadata": {
      "tags": []
     },
     "output_type": "execute_result"
    }
   ],
   "source": [
    "data.head()"
   ]
  },
  {
   "cell_type": "code",
   "execution_count": null,
   "metadata": {
    "id": "UOZ_XnpGj_x3"
   },
   "outputs": [],
   "source": [
    "data.date = pd.to_datetime(data.date)  "
   ]
  },
  {
   "cell_type": "code",
   "execution_count": null,
   "metadata": {
    "id": "o4aVt4usgn7R"
   },
   "outputs": [],
   "source": [
    "temp = data.copy()"
   ]
  },
  {
   "cell_type": "code",
   "execution_count": null,
   "metadata": {
    "colab": {
     "base_uri": "https://localhost:8080/",
     "height": 419
    },
    "executionInfo": {
     "elapsed": 38971,
     "status": "ok",
     "timestamp": 1606781001643,
     "user": {
      "displayName": "Walker Hughes",
      "photoUrl": "",
      "userId": "08972844504083878600"
     },
     "user_tz": 420
    },
    "id": "5coPni2_fhPY",
    "outputId": "4e6300ce-08c7-44d6-e927-280f92262358"
   },
   "outputs": [
    {
     "data": {
      "text/html": [
       "<div>\n",
       "<style scoped>\n",
       "    .dataframe tbody tr th:only-of-type {\n",
       "        vertical-align: middle;\n",
       "    }\n",
       "\n",
       "    .dataframe tbody tr th {\n",
       "        vertical-align: top;\n",
       "    }\n",
       "\n",
       "    .dataframe thead th {\n",
       "        text-align: right;\n",
       "    }\n",
       "</style>\n",
       "<table border=\"1\" class=\"dataframe\">\n",
       "  <thead>\n",
       "    <tr style=\"text-align: right;\">\n",
       "      <th></th>\n",
       "      <th>date</th>\n",
       "      <th>county</th>\n",
       "      <th>fips</th>\n",
       "    </tr>\n",
       "  </thead>\n",
       "  <tbody>\n",
       "    <tr>\n",
       "      <th>0</th>\n",
       "      <td>2020-07-10</td>\n",
       "      <td>Abbeville South Carolina</td>\n",
       "      <td>45001.0</td>\n",
       "    </tr>\n",
       "    <tr>\n",
       "      <th>1</th>\n",
       "      <td>2020-07-11</td>\n",
       "      <td>Abbeville South Carolina</td>\n",
       "      <td>45001.0</td>\n",
       "    </tr>\n",
       "    <tr>\n",
       "      <th>2</th>\n",
       "      <td>2020-07-12</td>\n",
       "      <td>Abbeville South Carolina</td>\n",
       "      <td>45001.0</td>\n",
       "    </tr>\n",
       "    <tr>\n",
       "      <th>3</th>\n",
       "      <td>2020-07-13</td>\n",
       "      <td>Abbeville South Carolina</td>\n",
       "      <td>45001.0</td>\n",
       "    </tr>\n",
       "    <tr>\n",
       "      <th>4</th>\n",
       "      <td>2020-07-14</td>\n",
       "      <td>Abbeville South Carolina</td>\n",
       "      <td>45001.0</td>\n",
       "    </tr>\n",
       "    <tr>\n",
       "      <th>...</th>\n",
       "      <td>...</td>\n",
       "      <td>...</td>\n",
       "      <td>...</td>\n",
       "    </tr>\n",
       "    <tr>\n",
       "      <th>171595</th>\n",
       "      <td>2020-08-29</td>\n",
       "      <td>Ziebach South Dakota</td>\n",
       "      <td>46137.0</td>\n",
       "    </tr>\n",
       "    <tr>\n",
       "      <th>171596</th>\n",
       "      <td>2020-08-30</td>\n",
       "      <td>Ziebach South Dakota</td>\n",
       "      <td>46137.0</td>\n",
       "    </tr>\n",
       "    <tr>\n",
       "      <th>171597</th>\n",
       "      <td>2020-08-31</td>\n",
       "      <td>Ziebach South Dakota</td>\n",
       "      <td>46137.0</td>\n",
       "    </tr>\n",
       "    <tr>\n",
       "      <th>171598</th>\n",
       "      <td>2020-09-01</td>\n",
       "      <td>Ziebach South Dakota</td>\n",
       "      <td>46137.0</td>\n",
       "    </tr>\n",
       "    <tr>\n",
       "      <th>171599</th>\n",
       "      <td>2020-09-02</td>\n",
       "      <td>Ziebach South Dakota</td>\n",
       "      <td>46137.0</td>\n",
       "    </tr>\n",
       "  </tbody>\n",
       "</table>\n",
       "<p>171600 rows × 3 columns</p>\n",
       "</div>"
      ],
      "text/plain": [
       "             date                    county     fips\n",
       "0      2020-07-10  Abbeville South Carolina  45001.0\n",
       "1      2020-07-11  Abbeville South Carolina  45001.0\n",
       "2      2020-07-12  Abbeville South Carolina  45001.0\n",
       "3      2020-07-13  Abbeville South Carolina  45001.0\n",
       "4      2020-07-14  Abbeville South Carolina  45001.0\n",
       "...           ...                       ...      ...\n",
       "171595 2020-08-29      Ziebach South Dakota  46137.0\n",
       "171596 2020-08-30      Ziebach South Dakota  46137.0\n",
       "171597 2020-08-31      Ziebach South Dakota  46137.0\n",
       "171598 2020-09-01      Ziebach South Dakota  46137.0\n",
       "171599 2020-09-02      Ziebach South Dakota  46137.0\n",
       "\n",
       "[171600 rows x 3 columns]"
      ]
     },
     "execution_count": 222,
     "metadata": {
      "tags": []
     },
     "output_type": "execute_result"
    }
   ],
   "source": [
    "# construct one full set of dates for everyone\n",
    "all_dates = pd.DataFrame(pd.date_range(temp['date'].min(), temp['date'].max()), columns=['date'])\n",
    "\n",
    "\n",
    "length = temp['county'].unique().size\n",
    "\n",
    "all_dates_full = all_dates\n",
    "for x in range(length - 1):  \n",
    "    all_dates_full = all_dates_full.append(all_dates) \n",
    "\n",
    "all_dates_full.reset_index(inplace = True, drop = True) \n",
    "\n",
    "# duplicate ids to match the number of dates \n",
    "length = all_dates.size\n",
    "ids = temp['county'].drop_duplicates() \n",
    "\n",
    "ids_full = ids \n",
    "for x in range(length - 1): \n",
    "    ids_full = ids_full.append(ids) \n",
    "\n",
    "ids_full.sort_values(inplace = True) \n",
    "ids_full.reset_index(inplace = True, drop = True) \n",
    "\n",
    "# balanced_panel = pd.concat([all_dates_full, ids_full], axis = 1) \n",
    "\n",
    "counties = balanced_panel.county.unique()\n",
    "\n",
    "fips = [] \n",
    "for c in counties: \n",
    "    fip = data[data.county == c].fips.values[0] \n",
    "    fips += [fip]*length\n",
    "\n",
    "d = {\"date\": all_dates_full.date.tolist(), \"county\": ids_full.values.tolist(), \"fips\": fips}\n",
    "balanced_panel = pd.DataFrame(data = d) \n",
    "\n",
    "balanced_panel "
   ]
  },
  {
   "cell_type": "code",
   "execution_count": null,
   "metadata": {
    "id": "dRVC66GdfhWy"
   },
   "outputs": [],
   "source": [
    "c = \"Abbeville South Carolina\"\n",
    "bal_c = balanced_panel[balanced_panel.county == c] \n",
    "other_c = data[data.county == c][[\"date\", \"county\", \"cases\"]].sort_values(by = [\"date\"])[3: ]"
   ]
  },
  {
   "cell_type": "code",
   "execution_count": null,
   "metadata": {
    "colab": {
     "base_uri": "https://localhost:8080/",
     "height": 204
    },
    "executionInfo": {
     "elapsed": 938,
     "status": "ok",
     "timestamp": 1606781149267,
     "user": {
      "displayName": "Walker Hughes",
      "photoUrl": "",
      "userId": "08972844504083878600"
     },
     "user_tz": 420
    },
    "id": "4o7NNMP9fhTf",
    "outputId": "ecadd22d-2160-4336-8afc-24d53a959b66"
   },
   "outputs": [
    {
     "data": {
      "text/html": [
       "<div>\n",
       "<style scoped>\n",
       "    .dataframe tbody tr th:only-of-type {\n",
       "        vertical-align: middle;\n",
       "    }\n",
       "\n",
       "    .dataframe tbody tr th {\n",
       "        vertical-align: top;\n",
       "    }\n",
       "\n",
       "    .dataframe thead th {\n",
       "        text-align: right;\n",
       "    }\n",
       "</style>\n",
       "<table border=\"1\" class=\"dataframe\">\n",
       "  <thead>\n",
       "    <tr style=\"text-align: right;\">\n",
       "      <th></th>\n",
       "      <th>date</th>\n",
       "      <th>county</th>\n",
       "      <th>fips</th>\n",
       "      <th>cases</th>\n",
       "    </tr>\n",
       "  </thead>\n",
       "  <tbody>\n",
       "    <tr>\n",
       "      <th>0</th>\n",
       "      <td>2020-07-10</td>\n",
       "      <td>Abbeville South Carolina</td>\n",
       "      <td>45001.0</td>\n",
       "      <td>0.0</td>\n",
       "    </tr>\n",
       "    <tr>\n",
       "      <th>1</th>\n",
       "      <td>2020-07-11</td>\n",
       "      <td>Abbeville South Carolina</td>\n",
       "      <td>45001.0</td>\n",
       "      <td>0.0</td>\n",
       "    </tr>\n",
       "    <tr>\n",
       "      <th>2</th>\n",
       "      <td>2020-07-12</td>\n",
       "      <td>Abbeville South Carolina</td>\n",
       "      <td>45001.0</td>\n",
       "      <td>0.0</td>\n",
       "    </tr>\n",
       "    <tr>\n",
       "      <th>3</th>\n",
       "      <td>2020-07-13</td>\n",
       "      <td>Abbeville South Carolina</td>\n",
       "      <td>45001.0</td>\n",
       "      <td>157.0</td>\n",
       "    </tr>\n",
       "    <tr>\n",
       "      <th>4</th>\n",
       "      <td>2020-07-14</td>\n",
       "      <td>Abbeville South Carolina</td>\n",
       "      <td>45001.0</td>\n",
       "      <td>162.0</td>\n",
       "    </tr>\n",
       "  </tbody>\n",
       "</table>\n",
       "</div>"
      ],
      "text/plain": [
       "        date                    county     fips  cases\n",
       "0 2020-07-10  Abbeville South Carolina  45001.0    0.0\n",
       "1 2020-07-11  Abbeville South Carolina  45001.0    0.0\n",
       "2 2020-07-12  Abbeville South Carolina  45001.0    0.0\n",
       "3 2020-07-13  Abbeville South Carolina  45001.0  157.0\n",
       "4 2020-07-14  Abbeville South Carolina  45001.0  162.0"
      ]
     },
     "execution_count": 232,
     "metadata": {
      "tags": []
     },
     "output_type": "execute_result"
    }
   ],
   "source": [
    "bal_c.merge(other_c, how = \"left\", on = [\"date\", \"county\"]).fillna(0).head()"
   ]
  },
  {
   "cell_type": "code",
   "execution_count": null,
   "metadata": {
    "id": "7tHyaZp0fhKj"
   },
   "outputs": [],
   "source": [
    "counties = balanced_panel.county.unique().tolist() \n",
    "\n",
    "c = counties[0] \n",
    "\n",
    "bal_c = balanced_panel[balanced_panel.county == c] \n",
    "other_c = data[data.county == c][[\"date\", \"county\", \"cases\"]].sort_values(by = [\"date\"]) \n",
    "\n",
    "temp_df = bal_c.merge(other_c, how = \"left\", on = [\"date\", \"county\"]).fillna(0)"
   ]
  },
  {
   "cell_type": "code",
   "execution_count": null,
   "metadata": {
    "colab": {
     "base_uri": "https://localhost:8080/"
    },
    "executionInfo": {
     "elapsed": 1345,
     "status": "ok",
     "timestamp": 1606781522195,
     "user": {
      "displayName": "Walker Hughes",
      "photoUrl": "",
      "userId": "08972844504083878600"
     },
     "user_tz": 420
    },
    "id": "ekqqIzx_pDxB",
    "outputId": "00efd512-aaec-4fe2-df35-1ed490334276"
   },
   "outputs": [
    {
     "data": {
      "text/plain": [
       "(55, 4)"
      ]
     },
     "execution_count": 239,
     "metadata": {
      "tags": []
     },
     "output_type": "execute_result"
    }
   ],
   "source": [
    "temp_df.shape"
   ]
  },
  {
   "cell_type": "code",
   "execution_count": null,
   "metadata": {
    "id": "_3LlYunbfhIZ"
   },
   "outputs": [],
   "source": [
    "for c in counties[1: ]: \n",
    "    temp_1 = balanced_panel[balanced_panel.county == c] \n",
    "    temp_2 = data[data.county == c][[\"date\", \"county\", \"cases\"]].sort_values(by = [\"date\"]) \n",
    "    temp_df = temp_df.append(temp_1.merge(temp_2, how = \"left\", on = [\"date\", \"county\"]).fillna(0)) "
   ]
  },
  {
   "cell_type": "code",
   "execution_count": null,
   "metadata": {
    "colab": {
     "base_uri": "https://localhost:8080/"
    },
    "executionInfo": {
     "elapsed": 551,
     "status": "ok",
     "timestamp": 1606781723997,
     "user": {
      "displayName": "Walker Hughes",
      "photoUrl": "",
      "userId": "08972844504083878600"
     },
     "user_tz": 420
    },
    "id": "t1R0KQhdoXrr",
    "outputId": "a54f90f5-2dd9-40ea-d3d8-000ba20de7c1"
   },
   "outputs": [
    {
     "data": {
      "text/plain": [
       "(171600, 4)"
      ]
     },
     "execution_count": 244,
     "metadata": {
      "tags": []
     },
     "output_type": "execute_result"
    }
   ],
   "source": [
    "temp_df.shape "
   ]
  },
  {
   "cell_type": "code",
   "execution_count": null,
   "metadata": {
    "id": "QgsJ0kL7p4IY"
   },
   "outputs": [],
   "source": [
    "# temp_df.to_csv(\"balanced_cases_data.csv\")  "
   ]
  },
  {
   "cell_type": "code",
   "execution_count": null,
   "metadata": {
    "id": "fevYzthfqNXq"
   },
   "outputs": [],
   "source": [
    "data = pd.read_csv(\"balanced_cases_data.csv\", index_col = 0)  "
   ]
  },
  {
   "cell_type": "code",
   "execution_count": null,
   "metadata": {
    "colab": {
     "base_uri": "https://localhost:8080/"
    },
    "executionInfo": {
     "elapsed": 515,
     "status": "ok",
     "timestamp": 1606782445297,
     "user": {
      "displayName": "Walker Hughes",
      "photoUrl": "",
      "userId": "08972844504083878600"
     },
     "user_tz": 420
    },
    "id": "jkoQPCu1uB3Q",
    "outputId": "da795147-1170-4ae3-895c-3dbf7c9605c6"
   },
   "outputs": [
    {
     "data": {
      "text/plain": [
       "(171600, 4)"
      ]
     },
     "execution_count": 326,
     "metadata": {
      "tags": []
     },
     "output_type": "execute_result"
    }
   ],
   "source": [
    "data.shape"
   ]
  },
  {
   "cell_type": "code",
   "execution_count": null,
   "metadata": {
    "colab": {
     "base_uri": "https://localhost:8080/",
     "height": 204
    },
    "executionInfo": {
     "elapsed": 591,
     "status": "ok",
     "timestamp": 1606782449204,
     "user": {
      "displayName": "Walker Hughes",
      "photoUrl": "",
      "userId": "08972844504083878600"
     },
     "user_tz": 420
    },
    "id": "xXMwiOj4uW7h",
    "outputId": "14fe0658-9774-4a89-cce9-dfbbb26cdc29"
   },
   "outputs": [
    {
     "data": {
      "text/html": [
       "<div>\n",
       "<style scoped>\n",
       "    .dataframe tbody tr th:only-of-type {\n",
       "        vertical-align: middle;\n",
       "    }\n",
       "\n",
       "    .dataframe tbody tr th {\n",
       "        vertical-align: top;\n",
       "    }\n",
       "\n",
       "    .dataframe thead th {\n",
       "        text-align: right;\n",
       "    }\n",
       "</style>\n",
       "<table border=\"1\" class=\"dataframe\">\n",
       "  <thead>\n",
       "    <tr style=\"text-align: right;\">\n",
       "      <th></th>\n",
       "      <th>date</th>\n",
       "      <th>county</th>\n",
       "      <th>fips</th>\n",
       "      <th>cases</th>\n",
       "    </tr>\n",
       "  </thead>\n",
       "  <tbody>\n",
       "    <tr>\n",
       "      <th>0</th>\n",
       "      <td>2020-07-10</td>\n",
       "      <td>Abbeville South Carolina</td>\n",
       "      <td>45001.0</td>\n",
       "      <td>141.0</td>\n",
       "    </tr>\n",
       "    <tr>\n",
       "      <th>1</th>\n",
       "      <td>2020-07-11</td>\n",
       "      <td>Abbeville South Carolina</td>\n",
       "      <td>45001.0</td>\n",
       "      <td>150.0</td>\n",
       "    </tr>\n",
       "    <tr>\n",
       "      <th>2</th>\n",
       "      <td>2020-07-12</td>\n",
       "      <td>Abbeville South Carolina</td>\n",
       "      <td>45001.0</td>\n",
       "      <td>153.0</td>\n",
       "    </tr>\n",
       "    <tr>\n",
       "      <th>3</th>\n",
       "      <td>2020-07-13</td>\n",
       "      <td>Abbeville South Carolina</td>\n",
       "      <td>45001.0</td>\n",
       "      <td>157.0</td>\n",
       "    </tr>\n",
       "    <tr>\n",
       "      <th>4</th>\n",
       "      <td>2020-07-14</td>\n",
       "      <td>Abbeville South Carolina</td>\n",
       "      <td>45001.0</td>\n",
       "      <td>162.0</td>\n",
       "    </tr>\n",
       "  </tbody>\n",
       "</table>\n",
       "</div>"
      ],
      "text/plain": [
       "         date                    county     fips  cases\n",
       "0  2020-07-10  Abbeville South Carolina  45001.0  141.0\n",
       "1  2020-07-11  Abbeville South Carolina  45001.0  150.0\n",
       "2  2020-07-12  Abbeville South Carolina  45001.0  153.0\n",
       "3  2020-07-13  Abbeville South Carolina  45001.0  157.0\n",
       "4  2020-07-14  Abbeville South Carolina  45001.0  162.0"
      ]
     },
     "execution_count": 327,
     "metadata": {
      "tags": []
     },
     "output_type": "execute_result"
    }
   ],
   "source": [
    "data.head()"
   ]
  },
  {
   "cell_type": "code",
   "execution_count": null,
   "metadata": {
    "id": "TP9G9kB-veMP"
   },
   "outputs": [],
   "source": [
    "# data[\"date\"] = data[\"date\"].astype(str) \n",
    "data[\"fips\"] = data[\"fips\"].astype(int)  \n",
    "data[\"cases\"] = data[\"cases\"].astype(int)   "
   ]
  },
  {
   "cell_type": "code",
   "execution_count": null,
   "metadata": {
    "colab": {
     "base_uri": "https://localhost:8080/"
    },
    "executionInfo": {
     "elapsed": 471,
     "status": "ok",
     "timestamp": 1606782454814,
     "user": {
      "displayName": "Walker Hughes",
      "photoUrl": "",
      "userId": "08972844504083878600"
     },
     "user_tz": 420
    },
    "id": "QnWGuaC_vj9W",
    "outputId": "6845a413-c6d1-460d-b766-da9d41b2ef9f"
   },
   "outputs": [
    {
     "data": {
      "text/plain": [
       "date      object\n",
       "county    object\n",
       "fips       int64\n",
       "cases      int64\n",
       "dtype: object"
      ]
     },
     "execution_count": 329,
     "metadata": {
      "tags": []
     },
     "output_type": "execute_result"
    }
   ],
   "source": [
    "data.dtypes"
   ]
  },
  {
   "cell_type": "code",
   "execution_count": null,
   "metadata": {
    "colab": {
     "base_uri": "https://localhost:8080/"
    },
    "executionInfo": {
     "elapsed": 824,
     "status": "ok",
     "timestamp": 1606782472494,
     "user": {
      "displayName": "Walker Hughes",
      "photoUrl": "",
      "userId": "08972844504083878600"
     },
     "user_tz": 420
    },
    "id": "asJ6UGHbzkF9",
    "outputId": "579b2828-529e-498c-cf88-27f42f50ae7a"
   },
   "outputs": [
    {
     "data": {
      "text/plain": [
       "3120"
      ]
     },
     "execution_count": 331,
     "metadata": {
      "tags": []
     },
     "output_type": "execute_result"
    }
   ],
   "source": [
    "len(data.county.unique())"
   ]
  },
  {
   "cell_type": "code",
   "execution_count": null,
   "metadata": {
    "id": "TKxVZbXv2-3j"
   },
   "outputs": [],
   "source": [
    "# MASK DATA CLEANING "
   ]
  },
  {
   "cell_type": "code",
   "execution_count": null,
   "metadata": {
    "id": "6jCAo-8XwmOE"
   },
   "outputs": [],
   "source": [
    "counties_to_drop = [\"Lawrence South Dakota\", 'Pennington South Dakota', \"Butte South Dakota\", \n",
    "                    \"Campbell Wyoming\", \"Maricopa Arizona\", \"Minnehaha South Dakota\", \"Hennepin Minnesota\",\n",
    "                    \"Adams Colorado\", \"Los Angeles California\", \"Cook Illinois\", \"Natrona Wyoming\", \"El Paso Colorado\", \n",
    "                    \"Weld Colorado\", \"Jefferson Colorado\", \"Larimer Colorado\", \"Harris Texas\", \n",
    "                    \"Douglas Nebraska\", \"Clark Nevada\", \"Anoka Minnesota\", \"San Diego California\", \"Burleigh North Dakota\", \n",
    "                    \"Denver Colorado\", \"San Bernardino California\", \"Polk Iowa\", \"Tarrant Texas\", \n",
    "                    \"Yellowstone Montana\", \"Riverside California\", \"Salt Lake Utah\", \"King Washington\", \"Dakota Minnesota\", \n",
    "                    \"Crook Wyoming\", \"Jackson Missouri\", \"Spokane Washington\", \"Pierce Washington\", \n",
    "                    'Scotts Bluff Nebraska', \"Dallas Texas\", \"Laramie Wyoming\", \"Cass North Dakota\", \"Boulder Colorado\", \n",
    "                    \"DuPage Illinois\", \"Woodbury Iowa\", \"Lincoln South Dakota\", \"Johnson Kansas\", \n",
    "                    \"Brown South Dakota\", \"Sheridan Wyoming\", \"Arapahoe Colorado\", \"Davison South Dakota\", \"Williams North Dakota\", \n",
    "                    \"Stark North Dakota\"] "
   ]
  },
  {
   "cell_type": "code",
   "execution_count": null,
   "metadata": {
    "colab": {
     "base_uri": "https://localhost:8080/"
    },
    "executionInfo": {
     "elapsed": 710,
     "status": "ok",
     "timestamp": 1606782515907,
     "user": {
      "displayName": "Walker Hughes",
      "photoUrl": "",
      "userId": "08972844504083878600"
     },
     "user_tz": 420
    },
    "id": "KltOSfxPyOb3",
    "outputId": "25e56aa3-1d93-4334-87b3-7fac282172b9"
   },
   "outputs": [
    {
     "data": {
      "text/plain": [
       "49"
      ]
     },
     "execution_count": 333,
     "metadata": {
      "tags": []
     },
     "output_type": "execute_result"
    }
   ],
   "source": [
    "len(counties_to_drop)"
   ]
  },
  {
   "cell_type": "code",
   "execution_count": null,
   "metadata": {
    "colab": {
     "base_uri": "https://localhost:8080/"
    },
    "executionInfo": {
     "elapsed": 587,
     "status": "ok",
     "timestamp": 1606782519789,
     "user": {
      "displayName": "Walker Hughes",
      "photoUrl": "",
      "userId": "08972844504083878600"
     },
     "user_tz": 420
    },
    "id": "JK1WTuSHwmQT",
    "outputId": "06d9f46b-3839-422d-94ce-890651143246"
   },
   "outputs": [
    {
     "data": {
      "text/plain": [
       "(168905, 4)"
      ]
     },
     "execution_count": 334,
     "metadata": {
      "tags": []
     },
     "output_type": "execute_result"
    }
   ],
   "source": [
    "data = data[~data.county.isin(set(counties_to_drop))] \n",
    "\n",
    "data.shape "
   ]
  },
  {
   "cell_type": "code",
   "execution_count": null,
   "metadata": {
    "colab": {
     "base_uri": "https://localhost:8080/",
     "height": 204
    },
    "executionInfo": {
     "elapsed": 525,
     "status": "ok",
     "timestamp": 1606782523418,
     "user": {
      "displayName": "Walker Hughes",
      "photoUrl": "",
      "userId": "08972844504083878600"
     },
     "user_tz": 420
    },
    "id": "NoB0EsPL7i0B",
    "outputId": "dd444a28-87e3-4194-af92-47ee65967c2f"
   },
   "outputs": [
    {
     "data": {
      "text/html": [
       "<div>\n",
       "<style scoped>\n",
       "    .dataframe tbody tr th:only-of-type {\n",
       "        vertical-align: middle;\n",
       "    }\n",
       "\n",
       "    .dataframe tbody tr th {\n",
       "        vertical-align: top;\n",
       "    }\n",
       "\n",
       "    .dataframe thead th {\n",
       "        text-align: right;\n",
       "    }\n",
       "</style>\n",
       "<table border=\"1\" class=\"dataframe\">\n",
       "  <thead>\n",
       "    <tr style=\"text-align: right;\">\n",
       "      <th></th>\n",
       "      <th>COUNTYFP</th>\n",
       "      <th>NEVER</th>\n",
       "      <th>RARELY</th>\n",
       "      <th>SOMETIMES</th>\n",
       "      <th>FREQUENTLY</th>\n",
       "      <th>ALWAYS</th>\n",
       "    </tr>\n",
       "  </thead>\n",
       "  <tbody>\n",
       "    <tr>\n",
       "      <th>0</th>\n",
       "      <td>1001</td>\n",
       "      <td>0.053</td>\n",
       "      <td>0.074</td>\n",
       "      <td>0.134</td>\n",
       "      <td>0.295</td>\n",
       "      <td>0.444</td>\n",
       "    </tr>\n",
       "    <tr>\n",
       "      <th>1</th>\n",
       "      <td>1003</td>\n",
       "      <td>0.083</td>\n",
       "      <td>0.059</td>\n",
       "      <td>0.098</td>\n",
       "      <td>0.323</td>\n",
       "      <td>0.436</td>\n",
       "    </tr>\n",
       "    <tr>\n",
       "      <th>2</th>\n",
       "      <td>1005</td>\n",
       "      <td>0.067</td>\n",
       "      <td>0.121</td>\n",
       "      <td>0.120</td>\n",
       "      <td>0.201</td>\n",
       "      <td>0.491</td>\n",
       "    </tr>\n",
       "    <tr>\n",
       "      <th>3</th>\n",
       "      <td>1007</td>\n",
       "      <td>0.020</td>\n",
       "      <td>0.034</td>\n",
       "      <td>0.096</td>\n",
       "      <td>0.278</td>\n",
       "      <td>0.572</td>\n",
       "    </tr>\n",
       "    <tr>\n",
       "      <th>4</th>\n",
       "      <td>1009</td>\n",
       "      <td>0.053</td>\n",
       "      <td>0.114</td>\n",
       "      <td>0.180</td>\n",
       "      <td>0.194</td>\n",
       "      <td>0.459</td>\n",
       "    </tr>\n",
       "  </tbody>\n",
       "</table>\n",
       "</div>"
      ],
      "text/plain": [
       "   COUNTYFP  NEVER  RARELY  SOMETIMES  FREQUENTLY  ALWAYS\n",
       "0      1001  0.053   0.074      0.134       0.295   0.444\n",
       "1      1003  0.083   0.059      0.098       0.323   0.436\n",
       "2      1005  0.067   0.121      0.120       0.201   0.491\n",
       "3      1007  0.020   0.034      0.096       0.278   0.572\n",
       "4      1009  0.053   0.114      0.180       0.194   0.459"
      ]
     },
     "execution_count": 335,
     "metadata": {
      "tags": []
     },
     "output_type": "execute_result"
    }
   ],
   "source": [
    "###### MEADE COUNTY, SD FIPS 46093 ######\n",
    "mask_data.head() "
   ]
  },
  {
   "cell_type": "code",
   "execution_count": null,
   "metadata": {
    "colab": {
     "base_uri": "https://localhost:8080/",
     "height": 80
    },
    "executionInfo": {
     "elapsed": 1151,
     "status": "ok",
     "timestamp": 1606782529421,
     "user": {
      "displayName": "Walker Hughes",
      "photoUrl": "",
      "userId": "08972844504083878600"
     },
     "user_tz": 420
    },
    "id": "yk6n0oqH748h",
    "outputId": "5ce5156f-0fb1-4100-eca7-5c9327aaa1d6"
   },
   "outputs": [
    {
     "data": {
      "text/html": [
       "<div>\n",
       "<style scoped>\n",
       "    .dataframe tbody tr th:only-of-type {\n",
       "        vertical-align: middle;\n",
       "    }\n",
       "\n",
       "    .dataframe tbody tr th {\n",
       "        vertical-align: top;\n",
       "    }\n",
       "\n",
       "    .dataframe thead th {\n",
       "        text-align: right;\n",
       "    }\n",
       "</style>\n",
       "<table border=\"1\" class=\"dataframe\">\n",
       "  <thead>\n",
       "    <tr style=\"text-align: right;\">\n",
       "      <th></th>\n",
       "      <th>COUNTYFP</th>\n",
       "      <th>NEVER</th>\n",
       "      <th>RARELY</th>\n",
       "      <th>SOMETIMES</th>\n",
       "      <th>FREQUENTLY</th>\n",
       "      <th>ALWAYS</th>\n",
       "    </tr>\n",
       "  </thead>\n",
       "  <tbody>\n",
       "    <tr>\n",
       "      <th>2407</th>\n",
       "      <td>46093</td>\n",
       "      <td>0.123</td>\n",
       "      <td>0.078</td>\n",
       "      <td>0.161</td>\n",
       "      <td>0.214</td>\n",
       "      <td>0.425</td>\n",
       "    </tr>\n",
       "  </tbody>\n",
       "</table>\n",
       "</div>"
      ],
      "text/plain": [
       "      COUNTYFP  NEVER  RARELY  SOMETIMES  FREQUENTLY  ALWAYS\n",
       "2407     46093  0.123   0.078      0.161       0.214   0.425"
      ]
     },
     "execution_count": 336,
     "metadata": {
      "tags": []
     },
     "output_type": "execute_result"
    }
   ],
   "source": [
    "meade = mask_data[mask_data.COUNTYFP == 46093]\n",
    "meade"
   ]
  },
  {
   "cell_type": "code",
   "execution_count": null,
   "metadata": {
    "colab": {
     "base_uri": "https://localhost:8080/"
    },
    "executionInfo": {
     "elapsed": 673,
     "status": "ok",
     "timestamp": 1606782532077,
     "user": {
      "displayName": "Walker Hughes",
      "photoUrl": "",
      "userId": "08972844504083878600"
     },
     "user_tz": 420
    },
    "id": "zffbmWhN8U2O",
    "outputId": "8419d054-6a6e-46fd-afe2-be0059d8cdf8"
   },
   "outputs": [
    {
     "data": {
      "text/plain": [
       "array([0.123, 0.078, 0.161, 0.214, 0.425])"
      ]
     },
     "execution_count": 337,
     "metadata": {
      "tags": []
     },
     "output_type": "execute_result"
    }
   ],
   "source": [
    "meade = meade.values[0][1: ] \n",
    "meade"
   ]
  },
  {
   "cell_type": "code",
   "execution_count": null,
   "metadata": {
    "id": "bdURjUhw86Og"
   },
   "outputs": [],
   "source": [
    "norms = norm(mask_data.values[:, 1:] - meade, axis = 1) "
   ]
  },
  {
   "cell_type": "code",
   "execution_count": null,
   "metadata": {
    "id": "SxKmNqzU9Mqv"
   },
   "outputs": [],
   "source": [
    "mask_data[\"SIMILARITY\"] = norms"
   ]
  },
  {
   "cell_type": "code",
   "execution_count": null,
   "metadata": {
    "colab": {
     "base_uri": "https://localhost:8080/",
     "height": 204
    },
    "executionInfo": {
     "elapsed": 407,
     "status": "ok",
     "timestamp": 1606782535494,
     "user": {
      "displayName": "Walker Hughes",
      "photoUrl": "",
      "userId": "08972844504083878600"
     },
     "user_tz": 420
    },
    "id": "dKp9gCma9Tk5",
    "outputId": "8076ad4b-63f4-4494-f3ec-a213ffa0d134"
   },
   "outputs": [
    {
     "data": {
      "text/html": [
       "<div>\n",
       "<style scoped>\n",
       "    .dataframe tbody tr th:only-of-type {\n",
       "        vertical-align: middle;\n",
       "    }\n",
       "\n",
       "    .dataframe tbody tr th {\n",
       "        vertical-align: top;\n",
       "    }\n",
       "\n",
       "    .dataframe thead th {\n",
       "        text-align: right;\n",
       "    }\n",
       "</style>\n",
       "<table border=\"1\" class=\"dataframe\">\n",
       "  <thead>\n",
       "    <tr style=\"text-align: right;\">\n",
       "      <th></th>\n",
       "      <th>COUNTYFP</th>\n",
       "      <th>NEVER</th>\n",
       "      <th>RARELY</th>\n",
       "      <th>SOMETIMES</th>\n",
       "      <th>FREQUENTLY</th>\n",
       "      <th>ALWAYS</th>\n",
       "      <th>SIMILARITY</th>\n",
       "    </tr>\n",
       "  </thead>\n",
       "  <tbody>\n",
       "    <tr>\n",
       "      <th>2407</th>\n",
       "      <td>46093</td>\n",
       "      <td>0.123</td>\n",
       "      <td>0.078</td>\n",
       "      <td>0.161</td>\n",
       "      <td>0.214</td>\n",
       "      <td>0.425</td>\n",
       "      <td>0.000000</td>\n",
       "    </tr>\n",
       "    <tr>\n",
       "      <th>2413</th>\n",
       "      <td>46103</td>\n",
       "      <td>0.127</td>\n",
       "      <td>0.078</td>\n",
       "      <td>0.159</td>\n",
       "      <td>0.222</td>\n",
       "      <td>0.414</td>\n",
       "      <td>0.014318</td>\n",
       "    </tr>\n",
       "    <tr>\n",
       "      <th>2401</th>\n",
       "      <td>46081</td>\n",
       "      <td>0.124</td>\n",
       "      <td>0.089</td>\n",
       "      <td>0.154</td>\n",
       "      <td>0.205</td>\n",
       "      <td>0.428</td>\n",
       "      <td>0.016155</td>\n",
       "    </tr>\n",
       "    <tr>\n",
       "      <th>929</th>\n",
       "      <td>20083</td>\n",
       "      <td>0.126</td>\n",
       "      <td>0.075</td>\n",
       "      <td>0.163</td>\n",
       "      <td>0.225</td>\n",
       "      <td>0.412</td>\n",
       "      <td>0.017664</td>\n",
       "    </tr>\n",
       "    <tr>\n",
       "      <th>1099</th>\n",
       "      <td>21213</td>\n",
       "      <td>0.137</td>\n",
       "      <td>0.066</td>\n",
       "      <td>0.162</td>\n",
       "      <td>0.208</td>\n",
       "      <td>0.426</td>\n",
       "      <td>0.019442</td>\n",
       "    </tr>\n",
       "  </tbody>\n",
       "</table>\n",
       "</div>"
      ],
      "text/plain": [
       "      COUNTYFP  NEVER  RARELY  SOMETIMES  FREQUENTLY  ALWAYS  SIMILARITY\n",
       "2407     46093  0.123   0.078      0.161       0.214   0.425    0.000000\n",
       "2413     46103  0.127   0.078      0.159       0.222   0.414    0.014318\n",
       "2401     46081  0.124   0.089      0.154       0.205   0.428    0.016155\n",
       "929      20083  0.126   0.075      0.163       0.225   0.412    0.017664\n",
       "1099     21213  0.137   0.066      0.162       0.208   0.426    0.019442"
      ]
     },
     "execution_count": 340,
     "metadata": {
      "tags": []
     },
     "output_type": "execute_result"
    }
   ],
   "source": [
    "mask_data.sort_values(by = [\"SIMILARITY\"], inplace = True) \n",
    "mask_data.head() "
   ]
  },
  {
   "cell_type": "code",
   "execution_count": null,
   "metadata": {
    "colab": {
     "base_uri": "https://localhost:8080/"
    },
    "executionInfo": {
     "elapsed": 987,
     "status": "ok",
     "timestamp": 1606782543545,
     "user": {
      "displayName": "Walker Hughes",
      "photoUrl": "",
      "userId": "08972844504083878600"
     },
     "user_tz": 420
    },
    "id": "cK5Moqp10a8f",
    "outputId": "96839eb2-282d-458b-f253-29d4c3d4f7db"
   },
   "outputs": [
    {
     "data": {
      "text/plain": [
       "True"
      ]
     },
     "execution_count": 341,
     "metadata": {
      "tags": []
     },
     "output_type": "execute_result"
    }
   ],
   "source": [
    "46093 in set(data.fips.unique())"
   ]
  },
  {
   "cell_type": "code",
   "execution_count": null,
   "metadata": {
    "colab": {
     "base_uri": "https://localhost:8080/"
    },
    "executionInfo": {
     "elapsed": 535,
     "status": "ok",
     "timestamp": 1606782544585,
     "user": {
      "displayName": "Walker Hughes",
      "photoUrl": "",
      "userId": "08972844504083878600"
     },
     "user_tz": 420
    },
    "id": "g9uC1iCk0h5u",
    "outputId": "d5cd8ad6-fced-4b7f-e310-0237d20638d6"
   },
   "outputs": [
    {
     "data": {
      "text/plain": [
       "True"
      ]
     },
     "execution_count": 342,
     "metadata": {
      "tags": []
     },
     "output_type": "execute_result"
    }
   ],
   "source": [
    "46093 in set(mask_data.COUNTYFP.unique())"
   ]
  },
  {
   "cell_type": "code",
   "execution_count": null,
   "metadata": {
    "id": "DZkQSJbrs_Yg"
   },
   "outputs": [],
   "source": [
    "mask_data = mask_data[mask_data.COUNTYFP.isin(set(data.fips.unique()))] "
   ]
  },
  {
   "cell_type": "code",
   "execution_count": null,
   "metadata": {
    "colab": {
     "base_uri": "https://localhost:8080/"
    },
    "executionInfo": {
     "elapsed": 784,
     "status": "ok",
     "timestamp": 1606782638781,
     "user": {
      "displayName": "Walker Hughes",
      "photoUrl": "",
      "userId": "08972844504083878600"
     },
     "user_tz": 420
    },
    "id": "0_MAPfPUrgRx",
    "outputId": "e5f1f17a-cb9f-455c-e52a-070389395a84"
   },
   "outputs": [
    {
     "data": {
      "text/plain": [
       "(3071, 3071)"
      ]
     },
     "execution_count": 347,
     "metadata": {
      "tags": []
     },
     "output_type": "execute_result"
    }
   ],
   "source": [
    "len(data.fips.unique()), len(mask_data.COUNTYFP.unique())"
   ]
  },
  {
   "cell_type": "code",
   "execution_count": null,
   "metadata": {
    "colab": {
     "base_uri": "https://localhost:8080/"
    },
    "executionInfo": {
     "elapsed": 585,
     "status": "ok",
     "timestamp": 1606782641444,
     "user": {
      "displayName": "Walker Hughes",
      "photoUrl": "",
      "userId": "08972844504083878600"
     },
     "user_tz": 420
    },
    "id": "mmY4LOGGrmXo",
    "outputId": "a3a2d100-3028-4402-8003-2294be4faa61"
   },
   "outputs": [
    {
     "data": {
      "text/plain": [
       "3071"
      ]
     },
     "execution_count": 348,
     "metadata": {
      "tags": []
     },
     "output_type": "execute_result"
    }
   ],
   "source": [
    "len(mask_data.COUNTYFP.unique())"
   ]
  },
  {
   "cell_type": "code",
   "execution_count": null,
   "metadata": {
    "colab": {
     "base_uri": "https://localhost:8080/"
    },
    "executionInfo": {
     "elapsed": 776,
     "status": "ok",
     "timestamp": 1606782644922,
     "user": {
      "displayName": "Walker Hughes",
      "photoUrl": "",
      "userId": "08972844504083878600"
     },
     "user_tz": 420
    },
    "id": "ERySONXS-QV7",
    "outputId": "4f002cb2-cbb8-4ce1-bacc-e01aea1323ec"
   },
   "outputs": [
    {
     "data": {
      "text/plain": [
       "3071"
      ]
     },
     "execution_count": 349,
     "metadata": {
      "tags": []
     },
     "output_type": "execute_result"
    }
   ],
   "source": [
    "len(data.fips.unique()) "
   ]
  },
  {
   "cell_type": "code",
   "execution_count": null,
   "metadata": {
    "colab": {
     "base_uri": "https://localhost:8080/"
    },
    "executionInfo": {
     "elapsed": 1115,
     "status": "ok",
     "timestamp": 1606782649837,
     "user": {
      "displayName": "Walker Hughes",
      "photoUrl": "",
      "userId": "08972844504083878600"
     },
     "user_tz": 420
    },
    "id": "bclunuAi-Rsu",
    "outputId": "d917d476-77e8-4c7e-b43f-4e132572ca26"
   },
   "outputs": [
    {
     "data": {
      "text/plain": [
       "(3071, 7)"
      ]
     },
     "execution_count": 350,
     "metadata": {
      "tags": []
     },
     "output_type": "execute_result"
    }
   ],
   "source": [
    "mask_data.shape"
   ]
  },
  {
   "cell_type": "code",
   "execution_count": null,
   "metadata": {
    "colab": {
     "base_uri": "https://localhost:8080/",
     "height": 204
    },
    "executionInfo": {
     "elapsed": 379,
     "status": "ok",
     "timestamp": 1606782651133,
     "user": {
      "displayName": "Walker Hughes",
      "photoUrl": "",
      "userId": "08972844504083878600"
     },
     "user_tz": 420
    },
    "id": "zxgfBCCp-V7X",
    "outputId": "95e220fc-4cc9-490e-f0ea-9246326a5523"
   },
   "outputs": [
    {
     "data": {
      "text/html": [
       "<div>\n",
       "<style scoped>\n",
       "    .dataframe tbody tr th:only-of-type {\n",
       "        vertical-align: middle;\n",
       "    }\n",
       "\n",
       "    .dataframe tbody tr th {\n",
       "        vertical-align: top;\n",
       "    }\n",
       "\n",
       "    .dataframe thead th {\n",
       "        text-align: right;\n",
       "    }\n",
       "</style>\n",
       "<table border=\"1\" class=\"dataframe\">\n",
       "  <thead>\n",
       "    <tr style=\"text-align: right;\">\n",
       "      <th></th>\n",
       "      <th>COUNTYFP</th>\n",
       "      <th>NEVER</th>\n",
       "      <th>RARELY</th>\n",
       "      <th>SOMETIMES</th>\n",
       "      <th>FREQUENTLY</th>\n",
       "      <th>ALWAYS</th>\n",
       "      <th>SIMILARITY</th>\n",
       "    </tr>\n",
       "  </thead>\n",
       "  <tbody>\n",
       "    <tr>\n",
       "      <th>2407</th>\n",
       "      <td>46093</td>\n",
       "      <td>0.123</td>\n",
       "      <td>0.078</td>\n",
       "      <td>0.161</td>\n",
       "      <td>0.214</td>\n",
       "      <td>0.425</td>\n",
       "      <td>0.000000</td>\n",
       "    </tr>\n",
       "    <tr>\n",
       "      <th>929</th>\n",
       "      <td>20083</td>\n",
       "      <td>0.126</td>\n",
       "      <td>0.075</td>\n",
       "      <td>0.163</td>\n",
       "      <td>0.225</td>\n",
       "      <td>0.412</td>\n",
       "      <td>0.017664</td>\n",
       "    </tr>\n",
       "    <tr>\n",
       "      <th>1099</th>\n",
       "      <td>21213</td>\n",
       "      <td>0.137</td>\n",
       "      <td>0.066</td>\n",
       "      <td>0.162</td>\n",
       "      <td>0.208</td>\n",
       "      <td>0.426</td>\n",
       "      <td>0.019442</td>\n",
       "    </tr>\n",
       "    <tr>\n",
       "      <th>2415</th>\n",
       "      <td>46107</td>\n",
       "      <td>0.131</td>\n",
       "      <td>0.067</td>\n",
       "      <td>0.147</td>\n",
       "      <td>0.225</td>\n",
       "      <td>0.431</td>\n",
       "      <td>0.023195</td>\n",
       "    </tr>\n",
       "    <tr>\n",
       "      <th>519</th>\n",
       "      <td>13269</td>\n",
       "      <td>0.126</td>\n",
       "      <td>0.069</td>\n",
       "      <td>0.182</td>\n",
       "      <td>0.201</td>\n",
       "      <td>0.422</td>\n",
       "      <td>0.026627</td>\n",
       "    </tr>\n",
       "  </tbody>\n",
       "</table>\n",
       "</div>"
      ],
      "text/plain": [
       "      COUNTYFP  NEVER  RARELY  SOMETIMES  FREQUENTLY  ALWAYS  SIMILARITY\n",
       "2407     46093  0.123   0.078      0.161       0.214   0.425    0.000000\n",
       "929      20083  0.126   0.075      0.163       0.225   0.412    0.017664\n",
       "1099     21213  0.137   0.066      0.162       0.208   0.426    0.019442\n",
       "2415     46107  0.131   0.067      0.147       0.225   0.431    0.023195\n",
       "519      13269  0.126   0.069      0.182       0.201   0.422    0.026627"
      ]
     },
     "execution_count": 351,
     "metadata": {
      "tags": []
     },
     "output_type": "execute_result"
    }
   ],
   "source": [
    "mask_data.head()"
   ]
  },
  {
   "cell_type": "code",
   "execution_count": null,
   "metadata": {
    "colab": {
     "base_uri": "https://localhost:8080/",
     "height": 35
    },
    "executionInfo": {
     "elapsed": 935,
     "status": "ok",
     "timestamp": 1606782659054,
     "user": {
      "displayName": "Walker Hughes",
      "photoUrl": "",
      "userId": "08972844504083878600"
     },
     "user_tz": 420
    },
    "id": "20Ink-YF-ZJv",
    "outputId": "5da90dda-aa4d-4136-e40b-ec90941f8b1f"
   },
   "outputs": [
    {
     "data": {
      "application/vnd.google.colaboratory.intrinsic+json": {
       "type": "string"
      },
      "text/plain": [
       "'Meade South Dakota'"
      ]
     },
     "execution_count": 352,
     "metadata": {
      "tags": []
     },
     "output_type": "execute_result"
    }
   ],
   "source": [
    "data[data.fips == 46093].county.values[0]  "
   ]
  },
  {
   "cell_type": "code",
   "execution_count": null,
   "metadata": {
    "colab": {
     "base_uri": "https://localhost:8080/",
     "height": 204
    },
    "executionInfo": {
     "elapsed": 747,
     "status": "ok",
     "timestamp": 1606782663156,
     "user": {
      "displayName": "Walker Hughes",
      "photoUrl": "",
      "userId": "08972844504083878600"
     },
     "user_tz": 420
    },
    "id": "W5-SpUp7_4P5",
    "outputId": "9ea4b5dc-c816-4bd0-e814-7913ee69e5f2"
   },
   "outputs": [
    {
     "data": {
      "text/html": [
       "<div>\n",
       "<style scoped>\n",
       "    .dataframe tbody tr th:only-of-type {\n",
       "        vertical-align: middle;\n",
       "    }\n",
       "\n",
       "    .dataframe tbody tr th {\n",
       "        vertical-align: top;\n",
       "    }\n",
       "\n",
       "    .dataframe thead th {\n",
       "        text-align: right;\n",
       "    }\n",
       "</style>\n",
       "<table border=\"1\" class=\"dataframe\">\n",
       "  <thead>\n",
       "    <tr style=\"text-align: right;\">\n",
       "      <th></th>\n",
       "      <th>date</th>\n",
       "      <th>county</th>\n",
       "      <th>fips</th>\n",
       "      <th>cases</th>\n",
       "    </tr>\n",
       "  </thead>\n",
       "  <tbody>\n",
       "    <tr>\n",
       "      <th>0</th>\n",
       "      <td>2020-07-10</td>\n",
       "      <td>Abbeville South Carolina</td>\n",
       "      <td>45001</td>\n",
       "      <td>141</td>\n",
       "    </tr>\n",
       "    <tr>\n",
       "      <th>1</th>\n",
       "      <td>2020-07-11</td>\n",
       "      <td>Abbeville South Carolina</td>\n",
       "      <td>45001</td>\n",
       "      <td>150</td>\n",
       "    </tr>\n",
       "    <tr>\n",
       "      <th>2</th>\n",
       "      <td>2020-07-12</td>\n",
       "      <td>Abbeville South Carolina</td>\n",
       "      <td>45001</td>\n",
       "      <td>153</td>\n",
       "    </tr>\n",
       "    <tr>\n",
       "      <th>3</th>\n",
       "      <td>2020-07-13</td>\n",
       "      <td>Abbeville South Carolina</td>\n",
       "      <td>45001</td>\n",
       "      <td>157</td>\n",
       "    </tr>\n",
       "    <tr>\n",
       "      <th>4</th>\n",
       "      <td>2020-07-14</td>\n",
       "      <td>Abbeville South Carolina</td>\n",
       "      <td>45001</td>\n",
       "      <td>162</td>\n",
       "    </tr>\n",
       "  </tbody>\n",
       "</table>\n",
       "</div>"
      ],
      "text/plain": [
       "         date                    county   fips  cases\n",
       "0  2020-07-10  Abbeville South Carolina  45001    141\n",
       "1  2020-07-11  Abbeville South Carolina  45001    150\n",
       "2  2020-07-12  Abbeville South Carolina  45001    153\n",
       "3  2020-07-13  Abbeville South Carolina  45001    157\n",
       "4  2020-07-14  Abbeville South Carolina  45001    162"
      ]
     },
     "execution_count": 353,
     "metadata": {
      "tags": []
     },
     "output_type": "execute_result"
    }
   ],
   "source": [
    "data.head()"
   ]
  },
  {
   "cell_type": "code",
   "execution_count": null,
   "metadata": {
    "id": "N3S60xQ8AHMZ"
   },
   "outputs": [],
   "source": [
    "mask_data.set_index(\"COUNTYFP\", inplace = True)  "
   ]
  },
  {
   "cell_type": "code",
   "execution_count": null,
   "metadata": {
    "colab": {
     "base_uri": "https://localhost:8080/",
     "height": 235
    },
    "executionInfo": {
     "elapsed": 462,
     "status": "ok",
     "timestamp": 1606782672981,
     "user": {
      "displayName": "Walker Hughes",
      "photoUrl": "",
      "userId": "08972844504083878600"
     },
     "user_tz": 420
    },
    "id": "dsEDkdTwAd5c",
    "outputId": "68412d0c-1f0b-4e0b-f7a9-db53f9667634"
   },
   "outputs": [
    {
     "data": {
      "text/html": [
       "<div>\n",
       "<style scoped>\n",
       "    .dataframe tbody tr th:only-of-type {\n",
       "        vertical-align: middle;\n",
       "    }\n",
       "\n",
       "    .dataframe tbody tr th {\n",
       "        vertical-align: top;\n",
       "    }\n",
       "\n",
       "    .dataframe thead th {\n",
       "        text-align: right;\n",
       "    }\n",
       "</style>\n",
       "<table border=\"1\" class=\"dataframe\">\n",
       "  <thead>\n",
       "    <tr style=\"text-align: right;\">\n",
       "      <th></th>\n",
       "      <th>NEVER</th>\n",
       "      <th>RARELY</th>\n",
       "      <th>SOMETIMES</th>\n",
       "      <th>FREQUENTLY</th>\n",
       "      <th>ALWAYS</th>\n",
       "      <th>SIMILARITY</th>\n",
       "    </tr>\n",
       "    <tr>\n",
       "      <th>COUNTYFP</th>\n",
       "      <th></th>\n",
       "      <th></th>\n",
       "      <th></th>\n",
       "      <th></th>\n",
       "      <th></th>\n",
       "      <th></th>\n",
       "    </tr>\n",
       "  </thead>\n",
       "  <tbody>\n",
       "    <tr>\n",
       "      <th>46093</th>\n",
       "      <td>0.123</td>\n",
       "      <td>0.078</td>\n",
       "      <td>0.161</td>\n",
       "      <td>0.214</td>\n",
       "      <td>0.425</td>\n",
       "      <td>0.000000</td>\n",
       "    </tr>\n",
       "    <tr>\n",
       "      <th>20083</th>\n",
       "      <td>0.126</td>\n",
       "      <td>0.075</td>\n",
       "      <td>0.163</td>\n",
       "      <td>0.225</td>\n",
       "      <td>0.412</td>\n",
       "      <td>0.017664</td>\n",
       "    </tr>\n",
       "    <tr>\n",
       "      <th>21213</th>\n",
       "      <td>0.137</td>\n",
       "      <td>0.066</td>\n",
       "      <td>0.162</td>\n",
       "      <td>0.208</td>\n",
       "      <td>0.426</td>\n",
       "      <td>0.019442</td>\n",
       "    </tr>\n",
       "    <tr>\n",
       "      <th>46107</th>\n",
       "      <td>0.131</td>\n",
       "      <td>0.067</td>\n",
       "      <td>0.147</td>\n",
       "      <td>0.225</td>\n",
       "      <td>0.431</td>\n",
       "      <td>0.023195</td>\n",
       "    </tr>\n",
       "    <tr>\n",
       "      <th>13269</th>\n",
       "      <td>0.126</td>\n",
       "      <td>0.069</td>\n",
       "      <td>0.182</td>\n",
       "      <td>0.201</td>\n",
       "      <td>0.422</td>\n",
       "      <td>0.026627</td>\n",
       "    </tr>\n",
       "  </tbody>\n",
       "</table>\n",
       "</div>"
      ],
      "text/plain": [
       "          NEVER  RARELY  SOMETIMES  FREQUENTLY  ALWAYS  SIMILARITY\n",
       "COUNTYFP                                                          \n",
       "46093     0.123   0.078      0.161       0.214   0.425    0.000000\n",
       "20083     0.126   0.075      0.163       0.225   0.412    0.017664\n",
       "21213     0.137   0.066      0.162       0.208   0.426    0.019442\n",
       "46107     0.131   0.067      0.147       0.225   0.431    0.023195\n",
       "13269     0.126   0.069      0.182       0.201   0.422    0.026627"
      ]
     },
     "execution_count": 355,
     "metadata": {
      "tags": []
     },
     "output_type": "execute_result"
    }
   ],
   "source": [
    "mask_data.head()"
   ]
  },
  {
   "cell_type": "code",
   "execution_count": null,
   "metadata": {
    "id": "U3Banc8SAlQF"
   },
   "outputs": [],
   "source": [
    "# mask_data.to_csv(\"cleaned_mask_data.csv\") "
   ]
  },
  {
   "cell_type": "code",
   "execution_count": null,
   "metadata": {
    "colab": {
     "base_uri": "https://localhost:8080/",
     "height": 204
    },
    "executionInfo": {
     "elapsed": 1335,
     "status": "ok",
     "timestamp": 1606782692046,
     "user": {
      "displayName": "Walker Hughes",
      "photoUrl": "",
      "userId": "08972844504083878600"
     },
     "user_tz": 420
    },
    "id": "eFZhDf8aAq8z",
    "outputId": "52699e17-dd5c-4971-818c-c04009554088"
   },
   "outputs": [
    {
     "data": {
      "text/html": [
       "<div>\n",
       "<style scoped>\n",
       "    .dataframe tbody tr th:only-of-type {\n",
       "        vertical-align: middle;\n",
       "    }\n",
       "\n",
       "    .dataframe tbody tr th {\n",
       "        vertical-align: top;\n",
       "    }\n",
       "\n",
       "    .dataframe thead th {\n",
       "        text-align: right;\n",
       "    }\n",
       "</style>\n",
       "<table border=\"1\" class=\"dataframe\">\n",
       "  <thead>\n",
       "    <tr style=\"text-align: right;\">\n",
       "      <th></th>\n",
       "      <th>date</th>\n",
       "      <th>county</th>\n",
       "      <th>fips</th>\n",
       "      <th>cases</th>\n",
       "    </tr>\n",
       "  </thead>\n",
       "  <tbody>\n",
       "    <tr>\n",
       "      <th>0</th>\n",
       "      <td>2020-07-10</td>\n",
       "      <td>Abbeville South Carolina</td>\n",
       "      <td>45001</td>\n",
       "      <td>141</td>\n",
       "    </tr>\n",
       "    <tr>\n",
       "      <th>1</th>\n",
       "      <td>2020-07-11</td>\n",
       "      <td>Abbeville South Carolina</td>\n",
       "      <td>45001</td>\n",
       "      <td>150</td>\n",
       "    </tr>\n",
       "    <tr>\n",
       "      <th>2</th>\n",
       "      <td>2020-07-12</td>\n",
       "      <td>Abbeville South Carolina</td>\n",
       "      <td>45001</td>\n",
       "      <td>153</td>\n",
       "    </tr>\n",
       "    <tr>\n",
       "      <th>3</th>\n",
       "      <td>2020-07-13</td>\n",
       "      <td>Abbeville South Carolina</td>\n",
       "      <td>45001</td>\n",
       "      <td>157</td>\n",
       "    </tr>\n",
       "    <tr>\n",
       "      <th>4</th>\n",
       "      <td>2020-07-14</td>\n",
       "      <td>Abbeville South Carolina</td>\n",
       "      <td>45001</td>\n",
       "      <td>162</td>\n",
       "    </tr>\n",
       "  </tbody>\n",
       "</table>\n",
       "</div>"
      ],
      "text/plain": [
       "         date                    county   fips  cases\n",
       "0  2020-07-10  Abbeville South Carolina  45001    141\n",
       "1  2020-07-11  Abbeville South Carolina  45001    150\n",
       "2  2020-07-12  Abbeville South Carolina  45001    153\n",
       "3  2020-07-13  Abbeville South Carolina  45001    157\n",
       "4  2020-07-14  Abbeville South Carolina  45001    162"
      ]
     },
     "execution_count": 357,
     "metadata": {
      "tags": []
     },
     "output_type": "execute_result"
    }
   ],
   "source": [
    "data.head()"
   ]
  },
  {
   "cell_type": "code",
   "execution_count": null,
   "metadata": {
    "colab": {
     "base_uri": "https://localhost:8080/",
     "height": 235
    },
    "executionInfo": {
     "elapsed": 1156,
     "status": "ok",
     "timestamp": 1606782698068,
     "user": {
      "displayName": "Walker Hughes",
      "photoUrl": "",
      "userId": "08972844504083878600"
     },
     "user_tz": 420
    },
    "id": "zyViw0Q3BSnr",
    "outputId": "3d2689c3-a482-428d-e479-d4049d44f989"
   },
   "outputs": [
    {
     "data": {
      "text/html": [
       "<div>\n",
       "<style scoped>\n",
       "    .dataframe tbody tr th:only-of-type {\n",
       "        vertical-align: middle;\n",
       "    }\n",
       "\n",
       "    .dataframe tbody tr th {\n",
       "        vertical-align: top;\n",
       "    }\n",
       "\n",
       "    .dataframe thead th {\n",
       "        text-align: right;\n",
       "    }\n",
       "</style>\n",
       "<table border=\"1\" class=\"dataframe\">\n",
       "  <thead>\n",
       "    <tr style=\"text-align: right;\">\n",
       "      <th></th>\n",
       "      <th>NEVER</th>\n",
       "      <th>RARELY</th>\n",
       "      <th>SOMETIMES</th>\n",
       "      <th>FREQUENTLY</th>\n",
       "      <th>ALWAYS</th>\n",
       "      <th>SIMILARITY</th>\n",
       "    </tr>\n",
       "    <tr>\n",
       "      <th>COUNTYFP</th>\n",
       "      <th></th>\n",
       "      <th></th>\n",
       "      <th></th>\n",
       "      <th></th>\n",
       "      <th></th>\n",
       "      <th></th>\n",
       "    </tr>\n",
       "  </thead>\n",
       "  <tbody>\n",
       "    <tr>\n",
       "      <th>46093</th>\n",
       "      <td>0.123</td>\n",
       "      <td>0.078</td>\n",
       "      <td>0.161</td>\n",
       "      <td>0.214</td>\n",
       "      <td>0.425</td>\n",
       "      <td>0.000000</td>\n",
       "    </tr>\n",
       "    <tr>\n",
       "      <th>20083</th>\n",
       "      <td>0.126</td>\n",
       "      <td>0.075</td>\n",
       "      <td>0.163</td>\n",
       "      <td>0.225</td>\n",
       "      <td>0.412</td>\n",
       "      <td>0.017664</td>\n",
       "    </tr>\n",
       "    <tr>\n",
       "      <th>21213</th>\n",
       "      <td>0.137</td>\n",
       "      <td>0.066</td>\n",
       "      <td>0.162</td>\n",
       "      <td>0.208</td>\n",
       "      <td>0.426</td>\n",
       "      <td>0.019442</td>\n",
       "    </tr>\n",
       "    <tr>\n",
       "      <th>46107</th>\n",
       "      <td>0.131</td>\n",
       "      <td>0.067</td>\n",
       "      <td>0.147</td>\n",
       "      <td>0.225</td>\n",
       "      <td>0.431</td>\n",
       "      <td>0.023195</td>\n",
       "    </tr>\n",
       "    <tr>\n",
       "      <th>13269</th>\n",
       "      <td>0.126</td>\n",
       "      <td>0.069</td>\n",
       "      <td>0.182</td>\n",
       "      <td>0.201</td>\n",
       "      <td>0.422</td>\n",
       "      <td>0.026627</td>\n",
       "    </tr>\n",
       "  </tbody>\n",
       "</table>\n",
       "</div>"
      ],
      "text/plain": [
       "          NEVER  RARELY  SOMETIMES  FREQUENTLY  ALWAYS  SIMILARITY\n",
       "COUNTYFP                                                          \n",
       "46093     0.123   0.078      0.161       0.214   0.425    0.000000\n",
       "20083     0.126   0.075      0.163       0.225   0.412    0.017664\n",
       "21213     0.137   0.066      0.162       0.208   0.426    0.019442\n",
       "46107     0.131   0.067      0.147       0.225   0.431    0.023195\n",
       "13269     0.126   0.069      0.182       0.201   0.422    0.026627"
      ]
     },
     "execution_count": 358,
     "metadata": {
      "tags": []
     },
     "output_type": "execute_result"
    }
   ],
   "source": [
    "mask_data.head()"
   ]
  },
  {
   "cell_type": "code",
   "execution_count": null,
   "metadata": {
    "colab": {
     "base_uri": "https://localhost:8080/",
     "height": 204
    },
    "executionInfo": {
     "elapsed": 1196,
     "status": "ok",
     "timestamp": 1606782708617,
     "user": {
      "displayName": "Walker Hughes",
      "photoUrl": "",
      "userId": "08972844504083878600"
     },
     "user_tz": 420
    },
    "id": "fbh4rqRb6MJg",
    "outputId": "a0c9b6a7-faa7-4d5a-da0b-fa1e25f0d704"
   },
   "outputs": [
    {
     "data": {
      "text/html": [
       "<div>\n",
       "<style scoped>\n",
       "    .dataframe tbody tr th:only-of-type {\n",
       "        vertical-align: middle;\n",
       "    }\n",
       "\n",
       "    .dataframe tbody tr th {\n",
       "        vertical-align: top;\n",
       "    }\n",
       "\n",
       "    .dataframe thead th {\n",
       "        text-align: right;\n",
       "    }\n",
       "</style>\n",
       "<table border=\"1\" class=\"dataframe\">\n",
       "  <thead>\n",
       "    <tr style=\"text-align: right;\">\n",
       "      <th></th>\n",
       "      <th>date</th>\n",
       "      <th>county</th>\n",
       "      <th>fips</th>\n",
       "      <th>cases</th>\n",
       "    </tr>\n",
       "  </thead>\n",
       "  <tbody>\n",
       "    <tr>\n",
       "      <th>0</th>\n",
       "      <td>2020-07-10</td>\n",
       "      <td>Abbeville South Carolina</td>\n",
       "      <td>45001</td>\n",
       "      <td>141</td>\n",
       "    </tr>\n",
       "    <tr>\n",
       "      <th>1</th>\n",
       "      <td>2020-07-11</td>\n",
       "      <td>Abbeville South Carolina</td>\n",
       "      <td>45001</td>\n",
       "      <td>150</td>\n",
       "    </tr>\n",
       "    <tr>\n",
       "      <th>2</th>\n",
       "      <td>2020-07-12</td>\n",
       "      <td>Abbeville South Carolina</td>\n",
       "      <td>45001</td>\n",
       "      <td>153</td>\n",
       "    </tr>\n",
       "    <tr>\n",
       "      <th>3</th>\n",
       "      <td>2020-07-13</td>\n",
       "      <td>Abbeville South Carolina</td>\n",
       "      <td>45001</td>\n",
       "      <td>157</td>\n",
       "    </tr>\n",
       "    <tr>\n",
       "      <th>4</th>\n",
       "      <td>2020-07-14</td>\n",
       "      <td>Abbeville South Carolina</td>\n",
       "      <td>45001</td>\n",
       "      <td>162</td>\n",
       "    </tr>\n",
       "  </tbody>\n",
       "</table>\n",
       "</div>"
      ],
      "text/plain": [
       "         date                    county   fips  cases\n",
       "0  2020-07-10  Abbeville South Carolina  45001    141\n",
       "1  2020-07-11  Abbeville South Carolina  45001    150\n",
       "2  2020-07-12  Abbeville South Carolina  45001    153\n",
       "3  2020-07-13  Abbeville South Carolina  45001    157\n",
       "4  2020-07-14  Abbeville South Carolina  45001    162"
      ]
     },
     "execution_count": 359,
     "metadata": {
      "tags": []
     },
     "output_type": "execute_result"
    }
   ],
   "source": [
    "data.head() "
   ]
  },
  {
   "cell_type": "code",
   "execution_count": null,
   "metadata": {
    "id": "w8gRjcZzBau3"
   },
   "outputs": [],
   "source": [
    "# data.to_csv(\"cleaned_county_data_version_2.csv\")  "
   ]
  },
  {
   "cell_type": "code",
   "execution_count": null,
   "metadata": {
    "colab": {
     "base_uri": "https://localhost:8080/",
     "height": 235
    },
    "executionInfo": {
     "elapsed": 766,
     "status": "ok",
     "timestamp": 1606782736878,
     "user": {
      "displayName": "Walker Hughes",
      "photoUrl": "",
      "userId": "08972844504083878600"
     },
     "user_tz": 420
    },
    "id": "Z7WPs5a0lSUS",
    "outputId": "4da166c4-5596-412e-f838-1481df5588ec"
   },
   "outputs": [
    {
     "data": {
      "text/html": [
       "<div>\n",
       "<style scoped>\n",
       "    .dataframe tbody tr th:only-of-type {\n",
       "        vertical-align: middle;\n",
       "    }\n",
       "\n",
       "    .dataframe tbody tr th {\n",
       "        vertical-align: top;\n",
       "    }\n",
       "\n",
       "    .dataframe thead th {\n",
       "        text-align: right;\n",
       "    }\n",
       "</style>\n",
       "<table border=\"1\" class=\"dataframe\">\n",
       "  <thead>\n",
       "    <tr style=\"text-align: right;\">\n",
       "      <th></th>\n",
       "      <th>county</th>\n",
       "      <th>fips</th>\n",
       "      <th>cases</th>\n",
       "    </tr>\n",
       "    <tr>\n",
       "      <th>date</th>\n",
       "      <th></th>\n",
       "      <th></th>\n",
       "      <th></th>\n",
       "    </tr>\n",
       "  </thead>\n",
       "  <tbody>\n",
       "    <tr>\n",
       "      <th>2020-07-10</th>\n",
       "      <td>Abbeville South Carolina</td>\n",
       "      <td>45001</td>\n",
       "      <td>141</td>\n",
       "    </tr>\n",
       "    <tr>\n",
       "      <th>2020-07-11</th>\n",
       "      <td>Abbeville South Carolina</td>\n",
       "      <td>45001</td>\n",
       "      <td>150</td>\n",
       "    </tr>\n",
       "    <tr>\n",
       "      <th>2020-07-12</th>\n",
       "      <td>Abbeville South Carolina</td>\n",
       "      <td>45001</td>\n",
       "      <td>153</td>\n",
       "    </tr>\n",
       "    <tr>\n",
       "      <th>2020-07-13</th>\n",
       "      <td>Abbeville South Carolina</td>\n",
       "      <td>45001</td>\n",
       "      <td>157</td>\n",
       "    </tr>\n",
       "    <tr>\n",
       "      <th>2020-07-14</th>\n",
       "      <td>Abbeville South Carolina</td>\n",
       "      <td>45001</td>\n",
       "      <td>162</td>\n",
       "    </tr>\n",
       "  </tbody>\n",
       "</table>\n",
       "</div>"
      ],
      "text/plain": [
       "                              county   fips  cases\n",
       "date                                              \n",
       "2020-07-10  Abbeville South Carolina  45001    141\n",
       "2020-07-11  Abbeville South Carolina  45001    150\n",
       "2020-07-12  Abbeville South Carolina  45001    153\n",
       "2020-07-13  Abbeville South Carolina  45001    157\n",
       "2020-07-14  Abbeville South Carolina  45001    162"
      ]
     },
     "execution_count": 360,
     "metadata": {
      "tags": []
     },
     "output_type": "execute_result"
    }
   ],
   "source": [
    "data.set_index(\"date\", inplace = True) \n",
    "data.head() "
   ]
  },
  {
   "cell_type": "code",
   "execution_count": null,
   "metadata": {
    "id": "CT6EfqotolDv"
   },
   "outputs": [],
   "source": []
  },
  {
   "cell_type": "code",
   "execution_count": null,
   "metadata": {
    "colab": {
     "base_uri": "https://localhost:8080/",
     "height": 235
    },
    "executionInfo": {
     "elapsed": 831,
     "status": "ok",
     "timestamp": 1606782747325,
     "user": {
      "displayName": "Walker Hughes",
      "photoUrl": "",
      "userId": "08972844504083878600"
     },
     "user_tz": 420
    },
    "id": "IaPte1Asotde",
    "outputId": "8d1b2aa7-5880-4ac5-a4bf-3bd47b11e649"
   },
   "outputs": [
    {
     "data": {
      "text/html": [
       "<div>\n",
       "<style scoped>\n",
       "    .dataframe tbody tr th:only-of-type {\n",
       "        vertical-align: middle;\n",
       "    }\n",
       "\n",
       "    .dataframe tbody tr th {\n",
       "        vertical-align: top;\n",
       "    }\n",
       "\n",
       "    .dataframe thead th {\n",
       "        text-align: right;\n",
       "    }\n",
       "</style>\n",
       "<table border=\"1\" class=\"dataframe\">\n",
       "  <thead>\n",
       "    <tr style=\"text-align: right;\">\n",
       "      <th></th>\n",
       "      <th>county</th>\n",
       "      <th>fips</th>\n",
       "      <th>cases</th>\n",
       "    </tr>\n",
       "    <tr>\n",
       "      <th>date</th>\n",
       "      <th></th>\n",
       "      <th></th>\n",
       "      <th></th>\n",
       "    </tr>\n",
       "  </thead>\n",
       "  <tbody>\n",
       "    <tr>\n",
       "      <th>2020-07-10</th>\n",
       "      <td>Abbeville South Carolina</td>\n",
       "      <td>45001</td>\n",
       "      <td>141</td>\n",
       "    </tr>\n",
       "    <tr>\n",
       "      <th>2020-07-11</th>\n",
       "      <td>Abbeville South Carolina</td>\n",
       "      <td>45001</td>\n",
       "      <td>150</td>\n",
       "    </tr>\n",
       "    <tr>\n",
       "      <th>2020-07-12</th>\n",
       "      <td>Abbeville South Carolina</td>\n",
       "      <td>45001</td>\n",
       "      <td>153</td>\n",
       "    </tr>\n",
       "    <tr>\n",
       "      <th>2020-07-13</th>\n",
       "      <td>Abbeville South Carolina</td>\n",
       "      <td>45001</td>\n",
       "      <td>157</td>\n",
       "    </tr>\n",
       "    <tr>\n",
       "      <th>2020-07-14</th>\n",
       "      <td>Abbeville South Carolina</td>\n",
       "      <td>45001</td>\n",
       "      <td>162</td>\n",
       "    </tr>\n",
       "  </tbody>\n",
       "</table>\n",
       "</div>"
      ],
      "text/plain": [
       "                              county   fips  cases\n",
       "date                                              \n",
       "2020-07-10  Abbeville South Carolina  45001    141\n",
       "2020-07-11  Abbeville South Carolina  45001    150\n",
       "2020-07-12  Abbeville South Carolina  45001    153\n",
       "2020-07-13  Abbeville South Carolina  45001    157\n",
       "2020-07-14  Abbeville South Carolina  45001    162"
      ]
     },
     "execution_count": 361,
     "metadata": {
      "tags": []
     },
     "output_type": "execute_result"
    }
   ],
   "source": [
    "data.index = pd.to_datetime(data.index, format = \"%Y-%m-%d\") \n",
    "data.head() "
   ]
  },
  {
   "cell_type": "code",
   "execution_count": null,
   "metadata": {
    "id": "v8eC5tmSppDu"
   },
   "outputs": [],
   "source": [
    "data[\"time_index\"] = (data.index - datetime(2020, 7, 10)).days + 1"
   ]
  },
  {
   "cell_type": "code",
   "execution_count": null,
   "metadata": {
    "colab": {
     "base_uri": "https://localhost:8080/",
     "height": 235
    },
    "executionInfo": {
     "elapsed": 966,
     "status": "ok",
     "timestamp": 1606782779114,
     "user": {
      "displayName": "Walker Hughes",
      "photoUrl": "",
      "userId": "08972844504083878600"
     },
     "user_tz": 420
    },
    "id": "-59SumgWqNAj",
    "outputId": "a632b1c8-a612-4de9-fc5f-22090479541c"
   },
   "outputs": [
    {
     "data": {
      "text/html": [
       "<div>\n",
       "<style scoped>\n",
       "    .dataframe tbody tr th:only-of-type {\n",
       "        vertical-align: middle;\n",
       "    }\n",
       "\n",
       "    .dataframe tbody tr th {\n",
       "        vertical-align: top;\n",
       "    }\n",
       "\n",
       "    .dataframe thead th {\n",
       "        text-align: right;\n",
       "    }\n",
       "</style>\n",
       "<table border=\"1\" class=\"dataframe\">\n",
       "  <thead>\n",
       "    <tr style=\"text-align: right;\">\n",
       "      <th></th>\n",
       "      <th>county</th>\n",
       "      <th>fips</th>\n",
       "      <th>cases</th>\n",
       "      <th>time_index</th>\n",
       "    </tr>\n",
       "    <tr>\n",
       "      <th>date</th>\n",
       "      <th></th>\n",
       "      <th></th>\n",
       "      <th></th>\n",
       "      <th></th>\n",
       "    </tr>\n",
       "  </thead>\n",
       "  <tbody>\n",
       "    <tr>\n",
       "      <th>2020-07-10</th>\n",
       "      <td>Abbeville South Carolina</td>\n",
       "      <td>45001</td>\n",
       "      <td>141</td>\n",
       "      <td>1</td>\n",
       "    </tr>\n",
       "    <tr>\n",
       "      <th>2020-07-11</th>\n",
       "      <td>Abbeville South Carolina</td>\n",
       "      <td>45001</td>\n",
       "      <td>150</td>\n",
       "      <td>2</td>\n",
       "    </tr>\n",
       "    <tr>\n",
       "      <th>2020-07-12</th>\n",
       "      <td>Abbeville South Carolina</td>\n",
       "      <td>45001</td>\n",
       "      <td>153</td>\n",
       "      <td>3</td>\n",
       "    </tr>\n",
       "    <tr>\n",
       "      <th>2020-07-13</th>\n",
       "      <td>Abbeville South Carolina</td>\n",
       "      <td>45001</td>\n",
       "      <td>157</td>\n",
       "      <td>4</td>\n",
       "    </tr>\n",
       "    <tr>\n",
       "      <th>2020-07-14</th>\n",
       "      <td>Abbeville South Carolina</td>\n",
       "      <td>45001</td>\n",
       "      <td>162</td>\n",
       "      <td>5</td>\n",
       "    </tr>\n",
       "  </tbody>\n",
       "</table>\n",
       "</div>"
      ],
      "text/plain": [
       "                              county   fips  cases  time_index\n",
       "date                                                          \n",
       "2020-07-10  Abbeville South Carolina  45001    141           1\n",
       "2020-07-11  Abbeville South Carolina  45001    150           2\n",
       "2020-07-12  Abbeville South Carolina  45001    153           3\n",
       "2020-07-13  Abbeville South Carolina  45001    157           4\n",
       "2020-07-14  Abbeville South Carolina  45001    162           5"
      ]
     },
     "execution_count": 363,
     "metadata": {
      "tags": []
     },
     "output_type": "execute_result"
    }
   ],
   "source": [
    "data.head()"
   ]
  },
  {
   "cell_type": "code",
   "execution_count": null,
   "metadata": {
    "colab": {
     "base_uri": "https://localhost:8080/"
    },
    "executionInfo": {
     "elapsed": 616,
     "status": "ok",
     "timestamp": 1606782793917,
     "user": {
      "displayName": "Walker Hughes",
      "photoUrl": "",
      "userId": "08972844504083878600"
     },
     "user_tz": 420
    },
    "id": "mdhLH41jqnhi",
    "outputId": "ce199877-0429-43b6-b358-1055a142a4a6"
   },
   "outputs": [
    {
     "data": {
      "text/plain": [
       "county        object\n",
       "fips           int64\n",
       "cases          int64\n",
       "time_index     int64\n",
       "dtype: object"
      ]
     },
     "execution_count": 364,
     "metadata": {
      "tags": []
     },
     "output_type": "execute_result"
    }
   ],
   "source": [
    "data.dtypes"
   ]
  },
  {
   "cell_type": "code",
   "execution_count": null,
   "metadata": {
    "id": "CyDGWliwquGX"
   },
   "outputs": [],
   "source": [
    "# data.to_csv(\"temp_cases.csv\") "
   ]
  },
  {
   "cell_type": "code",
   "execution_count": null,
   "metadata": {
    "colab": {
     "base_uri": "https://localhost:8080/",
     "height": 235
    },
    "executionInfo": {
     "elapsed": 703,
     "status": "ok",
     "timestamp": 1606782797906,
     "user": {
      "displayName": "Walker Hughes",
      "photoUrl": "",
      "userId": "08972844504083878600"
     },
     "user_tz": 420
    },
    "id": "9k0Wv5Uuq0Z6",
    "outputId": "dad08584-d6ac-4bc6-b1f1-f15dbe104993"
   },
   "outputs": [
    {
     "data": {
      "text/html": [
       "<div>\n",
       "<style scoped>\n",
       "    .dataframe tbody tr th:only-of-type {\n",
       "        vertical-align: middle;\n",
       "    }\n",
       "\n",
       "    .dataframe tbody tr th {\n",
       "        vertical-align: top;\n",
       "    }\n",
       "\n",
       "    .dataframe thead th {\n",
       "        text-align: right;\n",
       "    }\n",
       "</style>\n",
       "<table border=\"1\" class=\"dataframe\">\n",
       "  <thead>\n",
       "    <tr style=\"text-align: right;\">\n",
       "      <th></th>\n",
       "      <th>county</th>\n",
       "      <th>fips</th>\n",
       "      <th>cases</th>\n",
       "      <th>time_index</th>\n",
       "    </tr>\n",
       "    <tr>\n",
       "      <th>date</th>\n",
       "      <th></th>\n",
       "      <th></th>\n",
       "      <th></th>\n",
       "      <th></th>\n",
       "    </tr>\n",
       "  </thead>\n",
       "  <tbody>\n",
       "    <tr>\n",
       "      <th>2020-07-10</th>\n",
       "      <td>Abbeville South Carolina</td>\n",
       "      <td>45001</td>\n",
       "      <td>141</td>\n",
       "      <td>1</td>\n",
       "    </tr>\n",
       "    <tr>\n",
       "      <th>2020-07-11</th>\n",
       "      <td>Abbeville South Carolina</td>\n",
       "      <td>45001</td>\n",
       "      <td>150</td>\n",
       "      <td>2</td>\n",
       "    </tr>\n",
       "    <tr>\n",
       "      <th>2020-07-12</th>\n",
       "      <td>Abbeville South Carolina</td>\n",
       "      <td>45001</td>\n",
       "      <td>153</td>\n",
       "      <td>3</td>\n",
       "    </tr>\n",
       "    <tr>\n",
       "      <th>2020-07-13</th>\n",
       "      <td>Abbeville South Carolina</td>\n",
       "      <td>45001</td>\n",
       "      <td>157</td>\n",
       "      <td>4</td>\n",
       "    </tr>\n",
       "    <tr>\n",
       "      <th>2020-07-14</th>\n",
       "      <td>Abbeville South Carolina</td>\n",
       "      <td>45001</td>\n",
       "      <td>162</td>\n",
       "      <td>5</td>\n",
       "    </tr>\n",
       "  </tbody>\n",
       "</table>\n",
       "</div>"
      ],
      "text/plain": [
       "                              county   fips  cases  time_index\n",
       "date                                                          \n",
       "2020-07-10  Abbeville South Carolina  45001    141           1\n",
       "2020-07-11  Abbeville South Carolina  45001    150           2\n",
       "2020-07-12  Abbeville South Carolina  45001    153           3\n",
       "2020-07-13  Abbeville South Carolina  45001    157           4\n",
       "2020-07-14  Abbeville South Carolina  45001    162           5"
      ]
     },
     "execution_count": 365,
     "metadata": {
      "tags": []
     },
     "output_type": "execute_result"
    }
   ],
   "source": [
    "data.head() "
   ]
  },
  {
   "cell_type": "code",
   "execution_count": null,
   "metadata": {
    "id": "VkPPO8LvR319"
   },
   "outputs": [],
   "source": [
    "counties = data.county.unique().tolist()"
   ]
  },
  {
   "cell_type": "code",
   "execution_count": null,
   "metadata": {
    "id": "7hhMjeAPR_lF"
   },
   "outputs": [],
   "source": [
    "mapping = {counties[i]: i+1 for i in range(len(counties))}  "
   ]
  },
  {
   "cell_type": "code",
   "execution_count": null,
   "metadata": {
    "id": "PMo-HhjSSB5-"
   },
   "outputs": [],
   "source": [
    "temp = data.copy()"
   ]
  },
  {
   "cell_type": "code",
   "execution_count": null,
   "metadata": {
    "id": "Y2-y7iz_SZw2"
   },
   "outputs": [],
   "source": [
    "temp[\"county_num\"] = temp.county.map(mapping)"
   ]
  },
  {
   "cell_type": "code",
   "execution_count": null,
   "metadata": {
    "colab": {
     "base_uri": "https://localhost:8080/",
     "height": 235
    },
    "executionInfo": {
     "elapsed": 557,
     "status": "ok",
     "timestamp": 1606782808191,
     "user": {
      "displayName": "Walker Hughes",
      "photoUrl": "",
      "userId": "08972844504083878600"
     },
     "user_tz": 420
    },
    "id": "Js6Tq86VSk_L",
    "outputId": "a15ba7a3-6b1a-468b-f9b2-ef793ceb32da"
   },
   "outputs": [
    {
     "data": {
      "text/html": [
       "<div>\n",
       "<style scoped>\n",
       "    .dataframe tbody tr th:only-of-type {\n",
       "        vertical-align: middle;\n",
       "    }\n",
       "\n",
       "    .dataframe tbody tr th {\n",
       "        vertical-align: top;\n",
       "    }\n",
       "\n",
       "    .dataframe thead th {\n",
       "        text-align: right;\n",
       "    }\n",
       "</style>\n",
       "<table border=\"1\" class=\"dataframe\">\n",
       "  <thead>\n",
       "    <tr style=\"text-align: right;\">\n",
       "      <th></th>\n",
       "      <th>county</th>\n",
       "      <th>fips</th>\n",
       "      <th>cases</th>\n",
       "      <th>time_index</th>\n",
       "      <th>county_num</th>\n",
       "    </tr>\n",
       "    <tr>\n",
       "      <th>date</th>\n",
       "      <th></th>\n",
       "      <th></th>\n",
       "      <th></th>\n",
       "      <th></th>\n",
       "      <th></th>\n",
       "    </tr>\n",
       "  </thead>\n",
       "  <tbody>\n",
       "    <tr>\n",
       "      <th>2020-07-10</th>\n",
       "      <td>Abbeville South Carolina</td>\n",
       "      <td>45001</td>\n",
       "      <td>141</td>\n",
       "      <td>1</td>\n",
       "      <td>1</td>\n",
       "    </tr>\n",
       "    <tr>\n",
       "      <th>2020-07-11</th>\n",
       "      <td>Abbeville South Carolina</td>\n",
       "      <td>45001</td>\n",
       "      <td>150</td>\n",
       "      <td>2</td>\n",
       "      <td>1</td>\n",
       "    </tr>\n",
       "    <tr>\n",
       "      <th>2020-07-12</th>\n",
       "      <td>Abbeville South Carolina</td>\n",
       "      <td>45001</td>\n",
       "      <td>153</td>\n",
       "      <td>3</td>\n",
       "      <td>1</td>\n",
       "    </tr>\n",
       "    <tr>\n",
       "      <th>2020-07-13</th>\n",
       "      <td>Abbeville South Carolina</td>\n",
       "      <td>45001</td>\n",
       "      <td>157</td>\n",
       "      <td>4</td>\n",
       "      <td>1</td>\n",
       "    </tr>\n",
       "    <tr>\n",
       "      <th>2020-07-14</th>\n",
       "      <td>Abbeville South Carolina</td>\n",
       "      <td>45001</td>\n",
       "      <td>162</td>\n",
       "      <td>5</td>\n",
       "      <td>1</td>\n",
       "    </tr>\n",
       "  </tbody>\n",
       "</table>\n",
       "</div>"
      ],
      "text/plain": [
       "                              county   fips  cases  time_index  county_num\n",
       "date                                                                      \n",
       "2020-07-10  Abbeville South Carolina  45001    141           1           1\n",
       "2020-07-11  Abbeville South Carolina  45001    150           2           1\n",
       "2020-07-12  Abbeville South Carolina  45001    153           3           1\n",
       "2020-07-13  Abbeville South Carolina  45001    157           4           1\n",
       "2020-07-14  Abbeville South Carolina  45001    162           5           1"
      ]
     },
     "execution_count": 370,
     "metadata": {
      "tags": []
     },
     "output_type": "execute_result"
    }
   ],
   "source": [
    "temp.head() "
   ]
  },
  {
   "cell_type": "code",
   "execution_count": null,
   "metadata": {
    "id": "nLGw9-hmSmEL"
   },
   "outputs": [],
   "source": [
    "temp[\"treatment_indicator\"] = np.where(temp.county == \"Meade South Dakota\", 1, 0)"
   ]
  },
  {
   "cell_type": "code",
   "execution_count": null,
   "metadata": {
    "colab": {
     "base_uri": "https://localhost:8080/",
     "height": 173
    },
    "executionInfo": {
     "elapsed": 525,
     "status": "ok",
     "timestamp": 1606783411423,
     "user": {
      "displayName": "Walker Hughes",
      "photoUrl": "",
      "userId": "08972844504083878600"
     },
     "user_tz": 420
    },
    "id": "nghMxujoS0dI",
    "outputId": "4c4ad2e6-d573-4c62-ae2d-82a89df1f368"
   },
   "outputs": [
    {
     "data": {
      "text/html": [
       "<div>\n",
       "<style scoped>\n",
       "    .dataframe tbody tr th:only-of-type {\n",
       "        vertical-align: middle;\n",
       "    }\n",
       "\n",
       "    .dataframe tbody tr th {\n",
       "        vertical-align: top;\n",
       "    }\n",
       "\n",
       "    .dataframe thead th {\n",
       "        text-align: right;\n",
       "    }\n",
       "</style>\n",
       "<table border=\"1\" class=\"dataframe\">\n",
       "  <thead>\n",
       "    <tr style=\"text-align: right;\">\n",
       "      <th></th>\n",
       "      <th>county</th>\n",
       "      <th>fips</th>\n",
       "      <th>cases</th>\n",
       "      <th>time_index</th>\n",
       "      <th>county_num</th>\n",
       "      <th>treatment_indicator</th>\n",
       "      <th>x_cases</th>\n",
       "    </tr>\n",
       "    <tr>\n",
       "      <th>date</th>\n",
       "      <th></th>\n",
       "      <th></th>\n",
       "      <th></th>\n",
       "      <th></th>\n",
       "      <th></th>\n",
       "      <th></th>\n",
       "      <th></th>\n",
       "    </tr>\n",
       "  </thead>\n",
       "  <tbody>\n",
       "    <tr>\n",
       "      <th>2020-07-10</th>\n",
       "      <td>Meade South Dakota</td>\n",
       "      <td>46093</td>\n",
       "      <td>53</td>\n",
       "      <td>1</td>\n",
       "      <td>1831</td>\n",
       "      <td>1</td>\n",
       "      <td>53</td>\n",
       "    </tr>\n",
       "    <tr>\n",
       "      <th>2020-07-11</th>\n",
       "      <td>Meade South Dakota</td>\n",
       "      <td>46093</td>\n",
       "      <td>53</td>\n",
       "      <td>2</td>\n",
       "      <td>1831</td>\n",
       "      <td>1</td>\n",
       "      <td>53</td>\n",
       "    </tr>\n",
       "    <tr>\n",
       "      <th>2020-07-12</th>\n",
       "      <td>Meade South Dakota</td>\n",
       "      <td>46093</td>\n",
       "      <td>53</td>\n",
       "      <td>3</td>\n",
       "      <td>1831</td>\n",
       "      <td>1</td>\n",
       "      <td>53</td>\n",
       "    </tr>\n",
       "  </tbody>\n",
       "</table>\n",
       "</div>"
      ],
      "text/plain": [
       "                        county   fips  ...  treatment_indicator  x_cases\n",
       "date                                   ...                              \n",
       "2020-07-10  Meade South Dakota  46093  ...                    1       53\n",
       "2020-07-11  Meade South Dakota  46093  ...                    1       53\n",
       "2020-07-12  Meade South Dakota  46093  ...                    1       53\n",
       "\n",
       "[3 rows x 7 columns]"
      ]
     },
     "execution_count": 379,
     "metadata": {
      "tags": []
     },
     "output_type": "execute_result"
    }
   ],
   "source": [
    "temp[temp.county == \"Meade South Dakota\"].head(3)"
   ]
  },
  {
   "cell_type": "code",
   "execution_count": null,
   "metadata": {
    "colab": {
     "base_uri": "https://localhost:8080/",
     "height": 235
    },
    "executionInfo": {
     "elapsed": 801,
     "status": "ok",
     "timestamp": 1606782824040,
     "user": {
      "displayName": "Walker Hughes",
      "photoUrl": "",
      "userId": "08972844504083878600"
     },
     "user_tz": 420
    },
    "id": "ctHBSIE7S5RN",
    "outputId": "d3e9731c-5566-480e-8dea-2b20e98036ed"
   },
   "outputs": [
    {
     "data": {
      "text/html": [
       "<div>\n",
       "<style scoped>\n",
       "    .dataframe tbody tr th:only-of-type {\n",
       "        vertical-align: middle;\n",
       "    }\n",
       "\n",
       "    .dataframe tbody tr th {\n",
       "        vertical-align: top;\n",
       "    }\n",
       "\n",
       "    .dataframe thead th {\n",
       "        text-align: right;\n",
       "    }\n",
       "</style>\n",
       "<table border=\"1\" class=\"dataframe\">\n",
       "  <thead>\n",
       "    <tr style=\"text-align: right;\">\n",
       "      <th></th>\n",
       "      <th>county</th>\n",
       "      <th>fips</th>\n",
       "      <th>cases</th>\n",
       "      <th>time_index</th>\n",
       "      <th>county_num</th>\n",
       "      <th>treatment_indicator</th>\n",
       "    </tr>\n",
       "    <tr>\n",
       "      <th>date</th>\n",
       "      <th></th>\n",
       "      <th></th>\n",
       "      <th></th>\n",
       "      <th></th>\n",
       "      <th></th>\n",
       "      <th></th>\n",
       "    </tr>\n",
       "  </thead>\n",
       "  <tbody>\n",
       "    <tr>\n",
       "      <th>2020-07-10</th>\n",
       "      <td>Abbeville South Carolina</td>\n",
       "      <td>45001</td>\n",
       "      <td>141</td>\n",
       "      <td>1</td>\n",
       "      <td>1</td>\n",
       "      <td>0</td>\n",
       "    </tr>\n",
       "    <tr>\n",
       "      <th>2020-07-11</th>\n",
       "      <td>Abbeville South Carolina</td>\n",
       "      <td>45001</td>\n",
       "      <td>150</td>\n",
       "      <td>2</td>\n",
       "      <td>1</td>\n",
       "      <td>0</td>\n",
       "    </tr>\n",
       "    <tr>\n",
       "      <th>2020-07-12</th>\n",
       "      <td>Abbeville South Carolina</td>\n",
       "      <td>45001</td>\n",
       "      <td>153</td>\n",
       "      <td>3</td>\n",
       "      <td>1</td>\n",
       "      <td>0</td>\n",
       "    </tr>\n",
       "    <tr>\n",
       "      <th>2020-07-13</th>\n",
       "      <td>Abbeville South Carolina</td>\n",
       "      <td>45001</td>\n",
       "      <td>157</td>\n",
       "      <td>4</td>\n",
       "      <td>1</td>\n",
       "      <td>0</td>\n",
       "    </tr>\n",
       "    <tr>\n",
       "      <th>2020-07-14</th>\n",
       "      <td>Abbeville South Carolina</td>\n",
       "      <td>45001</td>\n",
       "      <td>162</td>\n",
       "      <td>5</td>\n",
       "      <td>1</td>\n",
       "      <td>0</td>\n",
       "    </tr>\n",
       "  </tbody>\n",
       "</table>\n",
       "</div>"
      ],
      "text/plain": [
       "                              county   fips  ...  county_num  treatment_indicator\n",
       "date                                         ...                                 \n",
       "2020-07-10  Abbeville South Carolina  45001  ...           1                    0\n",
       "2020-07-11  Abbeville South Carolina  45001  ...           1                    0\n",
       "2020-07-12  Abbeville South Carolina  45001  ...           1                    0\n",
       "2020-07-13  Abbeville South Carolina  45001  ...           1                    0\n",
       "2020-07-14  Abbeville South Carolina  45001  ...           1                    0\n",
       "\n",
       "[5 rows x 6 columns]"
      ]
     },
     "execution_count": 373,
     "metadata": {
      "tags": []
     },
     "output_type": "execute_result"
    }
   ],
   "source": [
    "temp.head()"
   ]
  },
  {
   "cell_type": "code",
   "execution_count": null,
   "metadata": {
    "id": "-s2SKRvwS7rg"
   },
   "outputs": [],
   "source": [
    "temp[\"x_cases\"] = temp.cases "
   ]
  },
  {
   "cell_type": "code",
   "execution_count": null,
   "metadata": {
    "id": "AQwBLWOFTNJz"
   },
   "outputs": [],
   "source": [
    "temp.to_csv(\"final_cases.csv\") "
   ]
  },
  {
   "cell_type": "code",
   "execution_count": null,
   "metadata": {
    "colab": {
     "base_uri": "https://localhost:8080/",
     "height": 235
    },
    "executionInfo": {
     "elapsed": 1121,
     "status": "ok",
     "timestamp": 1606783367670,
     "user": {
      "displayName": "Walker Hughes",
      "photoUrl": "",
      "userId": "08972844504083878600"
     },
     "user_tz": 420
    },
    "id": "ln9AMtXUun1K",
    "outputId": "aabffe70-937e-43d8-8d51-c5cf84a3f3a7"
   },
   "outputs": [
    {
     "data": {
      "text/html": [
       "<div>\n",
       "<style scoped>\n",
       "    .dataframe tbody tr th:only-of-type {\n",
       "        vertical-align: middle;\n",
       "    }\n",
       "\n",
       "    .dataframe tbody tr th {\n",
       "        vertical-align: top;\n",
       "    }\n",
       "\n",
       "    .dataframe thead th {\n",
       "        text-align: right;\n",
       "    }\n",
       "</style>\n",
       "<table border=\"1\" class=\"dataframe\">\n",
       "  <thead>\n",
       "    <tr style=\"text-align: right;\">\n",
       "      <th></th>\n",
       "      <th>NEVER</th>\n",
       "      <th>RARELY</th>\n",
       "      <th>SOMETIMES</th>\n",
       "      <th>FREQUENTLY</th>\n",
       "      <th>ALWAYS</th>\n",
       "      <th>SIMILARITY</th>\n",
       "    </tr>\n",
       "    <tr>\n",
       "      <th>COUNTYFP</th>\n",
       "      <th></th>\n",
       "      <th></th>\n",
       "      <th></th>\n",
       "      <th></th>\n",
       "      <th></th>\n",
       "      <th></th>\n",
       "    </tr>\n",
       "  </thead>\n",
       "  <tbody>\n",
       "    <tr>\n",
       "      <th>46093</th>\n",
       "      <td>0.123</td>\n",
       "      <td>0.078</td>\n",
       "      <td>0.161</td>\n",
       "      <td>0.214</td>\n",
       "      <td>0.425</td>\n",
       "      <td>0.000000</td>\n",
       "    </tr>\n",
       "    <tr>\n",
       "      <th>20083</th>\n",
       "      <td>0.126</td>\n",
       "      <td>0.075</td>\n",
       "      <td>0.163</td>\n",
       "      <td>0.225</td>\n",
       "      <td>0.412</td>\n",
       "      <td>0.017664</td>\n",
       "    </tr>\n",
       "    <tr>\n",
       "      <th>21213</th>\n",
       "      <td>0.137</td>\n",
       "      <td>0.066</td>\n",
       "      <td>0.162</td>\n",
       "      <td>0.208</td>\n",
       "      <td>0.426</td>\n",
       "      <td>0.019442</td>\n",
       "    </tr>\n",
       "    <tr>\n",
       "      <th>46107</th>\n",
       "      <td>0.131</td>\n",
       "      <td>0.067</td>\n",
       "      <td>0.147</td>\n",
       "      <td>0.225</td>\n",
       "      <td>0.431</td>\n",
       "      <td>0.023195</td>\n",
       "    </tr>\n",
       "    <tr>\n",
       "      <th>13269</th>\n",
       "      <td>0.126</td>\n",
       "      <td>0.069</td>\n",
       "      <td>0.182</td>\n",
       "      <td>0.201</td>\n",
       "      <td>0.422</td>\n",
       "      <td>0.026627</td>\n",
       "    </tr>\n",
       "  </tbody>\n",
       "</table>\n",
       "</div>"
      ],
      "text/plain": [
       "          NEVER  RARELY  SOMETIMES  FREQUENTLY  ALWAYS  SIMILARITY\n",
       "COUNTYFP                                                          \n",
       "46093     0.123   0.078      0.161       0.214   0.425    0.000000\n",
       "20083     0.126   0.075      0.163       0.225   0.412    0.017664\n",
       "21213     0.137   0.066      0.162       0.208   0.426    0.019442\n",
       "46107     0.131   0.067      0.147       0.225   0.431    0.023195\n",
       "13269     0.126   0.069      0.182       0.201   0.422    0.026627"
      ]
     },
     "execution_count": 378,
     "metadata": {
      "tags": []
     },
     "output_type": "execute_result"
    }
   ],
   "source": [
    "mask_data.head()"
   ]
  },
  {
   "cell_type": "code",
   "execution_count": null,
   "metadata": {
    "colab": {
     "base_uri": "https://localhost:8080/"
    },
    "executionInfo": {
     "elapsed": 1020,
     "status": "ok",
     "timestamp": 1606783495634,
     "user": {
      "displayName": "Walker Hughes",
      "photoUrl": "",
      "userId": "08972844504083878600"
     },
     "user_tz": 420
    },
    "id": "fi2wqUGFwURr",
    "outputId": "895f4801-842b-4c1c-b324-4430025300bf"
   },
   "outputs": [
    {
     "data": {
      "text/plain": [
       "True"
      ]
     },
     "execution_count": 383,
     "metadata": {
      "tags": []
     },
     "output_type": "execute_result"
    }
   ],
   "source": [
    "set(temp.fips.unique()) == set(mask_data.index.unique())"
   ]
  },
  {
   "cell_type": "code",
   "execution_count": null,
   "metadata": {
    "id": "Cxo81604wHRT"
   },
   "outputs": [],
   "source": [
    "fipz = mask_data.index.values[: 36] "
   ]
  },
  {
   "cell_type": "code",
   "execution_count": null,
   "metadata": {
    "id": "C9pEW48pwoMb"
   },
   "outputs": [],
   "source": [
    "top_35 = temp[temp.fips.isin(set(fipz))] "
   ]
  },
  {
   "cell_type": "code",
   "execution_count": null,
   "metadata": {
    "colab": {
     "base_uri": "https://localhost:8080/",
     "height": 235
    },
    "executionInfo": {
     "elapsed": 885,
     "status": "ok",
     "timestamp": 1606783542943,
     "user": {
      "displayName": "Walker Hughes",
      "photoUrl": "",
      "userId": "08972844504083878600"
     },
     "user_tz": 420
    },
    "id": "ymsALMAVwwkl",
    "outputId": "44a721ce-8572-4ae2-d743-c7aa25f0b642"
   },
   "outputs": [
    {
     "data": {
      "text/html": [
       "<div>\n",
       "<style scoped>\n",
       "    .dataframe tbody tr th:only-of-type {\n",
       "        vertical-align: middle;\n",
       "    }\n",
       "\n",
       "    .dataframe tbody tr th {\n",
       "        vertical-align: top;\n",
       "    }\n",
       "\n",
       "    .dataframe thead th {\n",
       "        text-align: right;\n",
       "    }\n",
       "</style>\n",
       "<table border=\"1\" class=\"dataframe\">\n",
       "  <thead>\n",
       "    <tr style=\"text-align: right;\">\n",
       "      <th></th>\n",
       "      <th>county</th>\n",
       "      <th>fips</th>\n",
       "      <th>cases</th>\n",
       "      <th>time_index</th>\n",
       "      <th>county_num</th>\n",
       "      <th>treatment_indicator</th>\n",
       "      <th>x_cases</th>\n",
       "    </tr>\n",
       "    <tr>\n",
       "      <th>date</th>\n",
       "      <th></th>\n",
       "      <th></th>\n",
       "      <th></th>\n",
       "      <th></th>\n",
       "      <th></th>\n",
       "      <th></th>\n",
       "      <th></th>\n",
       "    </tr>\n",
       "  </thead>\n",
       "  <tbody>\n",
       "    <tr>\n",
       "      <th>2020-07-10</th>\n",
       "      <td>Albany Wyoming</td>\n",
       "      <td>56001</td>\n",
       "      <td>45</td>\n",
       "      <td>1</td>\n",
       "      <td>28</td>\n",
       "      <td>0</td>\n",
       "      <td>45</td>\n",
       "    </tr>\n",
       "    <tr>\n",
       "      <th>2020-07-11</th>\n",
       "      <td>Albany Wyoming</td>\n",
       "      <td>56001</td>\n",
       "      <td>49</td>\n",
       "      <td>2</td>\n",
       "      <td>28</td>\n",
       "      <td>0</td>\n",
       "      <td>49</td>\n",
       "    </tr>\n",
       "    <tr>\n",
       "      <th>2020-07-12</th>\n",
       "      <td>Albany Wyoming</td>\n",
       "      <td>56001</td>\n",
       "      <td>49</td>\n",
       "      <td>3</td>\n",
       "      <td>28</td>\n",
       "      <td>0</td>\n",
       "      <td>49</td>\n",
       "    </tr>\n",
       "    <tr>\n",
       "      <th>2020-07-13</th>\n",
       "      <td>Albany Wyoming</td>\n",
       "      <td>56001</td>\n",
       "      <td>49</td>\n",
       "      <td>4</td>\n",
       "      <td>28</td>\n",
       "      <td>0</td>\n",
       "      <td>49</td>\n",
       "    </tr>\n",
       "    <tr>\n",
       "      <th>2020-07-14</th>\n",
       "      <td>Albany Wyoming</td>\n",
       "      <td>56001</td>\n",
       "      <td>52</td>\n",
       "      <td>5</td>\n",
       "      <td>28</td>\n",
       "      <td>0</td>\n",
       "      <td>52</td>\n",
       "    </tr>\n",
       "  </tbody>\n",
       "</table>\n",
       "</div>"
      ],
      "text/plain": [
       "                    county   fips  ...  treatment_indicator  x_cases\n",
       "date                               ...                              \n",
       "2020-07-10  Albany Wyoming  56001  ...                    0       45\n",
       "2020-07-11  Albany Wyoming  56001  ...                    0       49\n",
       "2020-07-12  Albany Wyoming  56001  ...                    0       49\n",
       "2020-07-13  Albany Wyoming  56001  ...                    0       49\n",
       "2020-07-14  Albany Wyoming  56001  ...                    0       52\n",
       "\n",
       "[5 rows x 7 columns]"
      ]
     },
     "execution_count": 387,
     "metadata": {
      "tags": []
     },
     "output_type": "execute_result"
    }
   ],
   "source": [
    "top_35.head()"
   ]
  },
  {
   "cell_type": "code",
   "execution_count": null,
   "metadata": {
    "colab": {
     "base_uri": "https://localhost:8080/"
    },
    "executionInfo": {
     "elapsed": 951,
     "status": "ok",
     "timestamp": 1606783555000,
     "user": {
      "displayName": "Walker Hughes",
      "photoUrl": "",
      "userId": "08972844504083878600"
     },
     "user_tz": 420
    },
    "id": "9N0_i3S8wyLD",
    "outputId": "99d5fab8-f1d5-4b83-8ce3-3386354e35c4"
   },
   "outputs": [
    {
     "data": {
      "text/plain": [
       "(1980, 7)"
      ]
     },
     "execution_count": 388,
     "metadata": {
      "tags": []
     },
     "output_type": "execute_result"
    }
   ],
   "source": [
    "top_35.shape"
   ]
  },
  {
   "cell_type": "code",
   "execution_count": null,
   "metadata": {
    "colab": {
     "base_uri": "https://localhost:8080/"
    },
    "executionInfo": {
     "elapsed": 344,
     "status": "ok",
     "timestamp": 1606783562209,
     "user": {
      "displayName": "Walker Hughes",
      "photoUrl": "",
      "userId": "08972844504083878600"
     },
     "user_tz": 420
    },
    "id": "hsce0tZCw1Bz",
    "outputId": "624f69c0-02de-463a-9b6c-572ada4688f2"
   },
   "outputs": [
    {
     "data": {
      "text/plain": [
       "55.0"
      ]
     },
     "execution_count": 389,
     "metadata": {
      "tags": []
     },
     "output_type": "execute_result"
    }
   ],
   "source": [
    "1980/36 "
   ]
  },
  {
   "cell_type": "code",
   "execution_count": null,
   "metadata": {
    "id": "evL0TNX5w3BX"
   },
   "outputs": [],
   "source": [
    "# top_35.to_csv(\"top_35_similar.csv\")"
   ]
  },
  {
   "cell_type": "code",
   "execution_count": 5,
   "metadata": {
    "executionInfo": {
     "elapsed": 951,
     "status": "ok",
     "timestamp": 1606947991004,
     "user": {
      "displayName": "Walker Hughes",
      "photoUrl": "",
      "userId": "08972844504083878600"
     },
     "user_tz": 420
    },
    "id": "Og7-l5kDw8fa"
   },
   "outputs": [],
   "source": [
    "cases = pd.read_csv(\"final_cases.csv\")\n",
    "most_similar = pd.read_csv(\"top_35_similar.csv\") "
   ]
  },
  {
   "cell_type": "code",
   "execution_count": 6,
   "metadata": {
    "colab": {
     "base_uri": "https://localhost:8080/",
     "height": 204
    },
    "executionInfo": {
     "elapsed": 414,
     "status": "ok",
     "timestamp": 1606947995537,
     "user": {
      "displayName": "Walker Hughes",
      "photoUrl": "",
      "userId": "08972844504083878600"
     },
     "user_tz": 420
    },
    "id": "V1x59u9Yj-n4",
    "outputId": "92f00096-a8d2-4b40-a67d-d621391853e1"
   },
   "outputs": [
    {
     "data": {
      "text/html": [
       "<div>\n",
       "<style scoped>\n",
       "    .dataframe tbody tr th:only-of-type {\n",
       "        vertical-align: middle;\n",
       "    }\n",
       "\n",
       "    .dataframe tbody tr th {\n",
       "        vertical-align: top;\n",
       "    }\n",
       "\n",
       "    .dataframe thead th {\n",
       "        text-align: right;\n",
       "    }\n",
       "</style>\n",
       "<table border=\"1\" class=\"dataframe\">\n",
       "  <thead>\n",
       "    <tr style=\"text-align: right;\">\n",
       "      <th></th>\n",
       "      <th>date</th>\n",
       "      <th>county</th>\n",
       "      <th>fips</th>\n",
       "      <th>cases</th>\n",
       "      <th>time_index</th>\n",
       "      <th>county_num</th>\n",
       "      <th>treatment_indicator</th>\n",
       "      <th>x_cases</th>\n",
       "    </tr>\n",
       "  </thead>\n",
       "  <tbody>\n",
       "    <tr>\n",
       "      <th>0</th>\n",
       "      <td>2020-07-10</td>\n",
       "      <td>Abbeville South Carolina</td>\n",
       "      <td>45001</td>\n",
       "      <td>141</td>\n",
       "      <td>1</td>\n",
       "      <td>1</td>\n",
       "      <td>0</td>\n",
       "      <td>141</td>\n",
       "    </tr>\n",
       "    <tr>\n",
       "      <th>1</th>\n",
       "      <td>2020-07-11</td>\n",
       "      <td>Abbeville South Carolina</td>\n",
       "      <td>45001</td>\n",
       "      <td>150</td>\n",
       "      <td>2</td>\n",
       "      <td>1</td>\n",
       "      <td>0</td>\n",
       "      <td>150</td>\n",
       "    </tr>\n",
       "    <tr>\n",
       "      <th>2</th>\n",
       "      <td>2020-07-12</td>\n",
       "      <td>Abbeville South Carolina</td>\n",
       "      <td>45001</td>\n",
       "      <td>153</td>\n",
       "      <td>3</td>\n",
       "      <td>1</td>\n",
       "      <td>0</td>\n",
       "      <td>153</td>\n",
       "    </tr>\n",
       "    <tr>\n",
       "      <th>3</th>\n",
       "      <td>2020-07-13</td>\n",
       "      <td>Abbeville South Carolina</td>\n",
       "      <td>45001</td>\n",
       "      <td>157</td>\n",
       "      <td>4</td>\n",
       "      <td>1</td>\n",
       "      <td>0</td>\n",
       "      <td>157</td>\n",
       "    </tr>\n",
       "    <tr>\n",
       "      <th>4</th>\n",
       "      <td>2020-07-14</td>\n",
       "      <td>Abbeville South Carolina</td>\n",
       "      <td>45001</td>\n",
       "      <td>162</td>\n",
       "      <td>5</td>\n",
       "      <td>1</td>\n",
       "      <td>0</td>\n",
       "      <td>162</td>\n",
       "    </tr>\n",
       "  </tbody>\n",
       "</table>\n",
       "</div>"
      ],
      "text/plain": [
       "         date                    county  ...  treatment_indicator  x_cases\n",
       "0  2020-07-10  Abbeville South Carolina  ...                    0      141\n",
       "1  2020-07-11  Abbeville South Carolina  ...                    0      150\n",
       "2  2020-07-12  Abbeville South Carolina  ...                    0      153\n",
       "3  2020-07-13  Abbeville South Carolina  ...                    0      157\n",
       "4  2020-07-14  Abbeville South Carolina  ...                    0      162\n",
       "\n",
       "[5 rows x 8 columns]"
      ]
     },
     "execution_count": 6,
     "metadata": {
      "tags": []
     },
     "output_type": "execute_result"
    }
   ],
   "source": [
    "cases.head()"
   ]
  },
  {
   "cell_type": "code",
   "execution_count": 7,
   "metadata": {
    "colab": {
     "base_uri": "https://localhost:8080/",
     "height": 204
    },
    "executionInfo": {
     "elapsed": 421,
     "status": "ok",
     "timestamp": 1606948003340,
     "user": {
      "displayName": "Walker Hughes",
      "photoUrl": "",
      "userId": "08972844504083878600"
     },
     "user_tz": 420
    },
    "id": "9KhscclwkHuu",
    "outputId": "0ebbb097-5fdf-458e-9431-247f7ac81021"
   },
   "outputs": [
    {
     "data": {
      "text/html": [
       "<div>\n",
       "<style scoped>\n",
       "    .dataframe tbody tr th:only-of-type {\n",
       "        vertical-align: middle;\n",
       "    }\n",
       "\n",
       "    .dataframe tbody tr th {\n",
       "        vertical-align: top;\n",
       "    }\n",
       "\n",
       "    .dataframe thead th {\n",
       "        text-align: right;\n",
       "    }\n",
       "</style>\n",
       "<table border=\"1\" class=\"dataframe\">\n",
       "  <thead>\n",
       "    <tr style=\"text-align: right;\">\n",
       "      <th></th>\n",
       "      <th>date</th>\n",
       "      <th>county</th>\n",
       "      <th>fips</th>\n",
       "      <th>cases</th>\n",
       "      <th>time_index</th>\n",
       "      <th>county_num</th>\n",
       "      <th>treatment_indicator</th>\n",
       "      <th>x_cases</th>\n",
       "    </tr>\n",
       "  </thead>\n",
       "  <tbody>\n",
       "    <tr>\n",
       "      <th>0</th>\n",
       "      <td>2020-07-10</td>\n",
       "      <td>Albany Wyoming</td>\n",
       "      <td>56001</td>\n",
       "      <td>45</td>\n",
       "      <td>1</td>\n",
       "      <td>28</td>\n",
       "      <td>0</td>\n",
       "      <td>45</td>\n",
       "    </tr>\n",
       "    <tr>\n",
       "      <th>1</th>\n",
       "      <td>2020-07-11</td>\n",
       "      <td>Albany Wyoming</td>\n",
       "      <td>56001</td>\n",
       "      <td>49</td>\n",
       "      <td>2</td>\n",
       "      <td>28</td>\n",
       "      <td>0</td>\n",
       "      <td>49</td>\n",
       "    </tr>\n",
       "    <tr>\n",
       "      <th>2</th>\n",
       "      <td>2020-07-12</td>\n",
       "      <td>Albany Wyoming</td>\n",
       "      <td>56001</td>\n",
       "      <td>49</td>\n",
       "      <td>3</td>\n",
       "      <td>28</td>\n",
       "      <td>0</td>\n",
       "      <td>49</td>\n",
       "    </tr>\n",
       "    <tr>\n",
       "      <th>3</th>\n",
       "      <td>2020-07-13</td>\n",
       "      <td>Albany Wyoming</td>\n",
       "      <td>56001</td>\n",
       "      <td>49</td>\n",
       "      <td>4</td>\n",
       "      <td>28</td>\n",
       "      <td>0</td>\n",
       "      <td>49</td>\n",
       "    </tr>\n",
       "    <tr>\n",
       "      <th>4</th>\n",
       "      <td>2020-07-14</td>\n",
       "      <td>Albany Wyoming</td>\n",
       "      <td>56001</td>\n",
       "      <td>52</td>\n",
       "      <td>5</td>\n",
       "      <td>28</td>\n",
       "      <td>0</td>\n",
       "      <td>52</td>\n",
       "    </tr>\n",
       "  </tbody>\n",
       "</table>\n",
       "</div>"
      ],
      "text/plain": [
       "         date          county   fips  ...  county_num  treatment_indicator  x_cases\n",
       "0  2020-07-10  Albany Wyoming  56001  ...          28                    0       45\n",
       "1  2020-07-11  Albany Wyoming  56001  ...          28                    0       49\n",
       "2  2020-07-12  Albany Wyoming  56001  ...          28                    0       49\n",
       "3  2020-07-13  Albany Wyoming  56001  ...          28                    0       49\n",
       "4  2020-07-14  Albany Wyoming  56001  ...          28                    0       52\n",
       "\n",
       "[5 rows x 8 columns]"
      ]
     },
     "execution_count": 7,
     "metadata": {
      "tags": []
     },
     "output_type": "execute_result"
    }
   ],
   "source": [
    "most_similar.head()"
   ]
  },
  {
   "cell_type": "code",
   "execution_count": 8,
   "metadata": {
    "colab": {
     "base_uri": "https://localhost:8080/"
    },
    "executionInfo": {
     "elapsed": 627,
     "status": "ok",
     "timestamp": 1606948101907,
     "user": {
      "displayName": "Walker Hughes",
      "photoUrl": "",
      "userId": "08972844504083878600"
     },
     "user_tz": 420
    },
    "id": "ciTOQ4_JkJw7",
    "outputId": "44a6b092-8a8b-465c-c313-4c577b24244e"
   },
   "outputs": [
    {
     "data": {
      "text/plain": [
       "True"
      ]
     },
     "execution_count": 8,
     "metadata": {
      "tags": []
     },
     "output_type": "execute_result"
    }
   ],
   "source": [
    "\"Meade South Dakota\" in most_similar.county.unique()"
   ]
  },
  {
   "cell_type": "code",
   "execution_count": 9,
   "metadata": {
    "colab": {
     "base_uri": "https://localhost:8080/",
     "height": 204
    },
    "executionInfo": {
     "elapsed": 475,
     "status": "ok",
     "timestamp": 1606948301685,
     "user": {
      "displayName": "Walker Hughes",
      "photoUrl": "",
      "userId": "08972844504083878600"
     },
     "user_tz": 420
    },
    "id": "Fa_lLCW6khxT",
    "outputId": "ebbb568a-6568-4aae-f0d6-3bbc2197b3c5"
   },
   "outputs": [
    {
     "data": {
      "text/html": [
       "<div>\n",
       "<style scoped>\n",
       "    .dataframe tbody tr th:only-of-type {\n",
       "        vertical-align: middle;\n",
       "    }\n",
       "\n",
       "    .dataframe tbody tr th {\n",
       "        vertical-align: top;\n",
       "    }\n",
       "\n",
       "    .dataframe thead th {\n",
       "        text-align: right;\n",
       "    }\n",
       "</style>\n",
       "<table border=\"1\" class=\"dataframe\">\n",
       "  <thead>\n",
       "    <tr style=\"text-align: right;\">\n",
       "      <th></th>\n",
       "      <th>date</th>\n",
       "      <th>county</th>\n",
       "      <th>fips</th>\n",
       "      <th>cases</th>\n",
       "      <th>time_index</th>\n",
       "      <th>county_num</th>\n",
       "      <th>treatment_indicator</th>\n",
       "      <th>x_cases</th>\n",
       "    </tr>\n",
       "  </thead>\n",
       "  <tbody>\n",
       "    <tr>\n",
       "      <th>0</th>\n",
       "      <td>2020-07-10</td>\n",
       "      <td>Albany Wyoming</td>\n",
       "      <td>56001</td>\n",
       "      <td>45</td>\n",
       "      <td>1</td>\n",
       "      <td>1</td>\n",
       "      <td>0</td>\n",
       "      <td>45</td>\n",
       "    </tr>\n",
       "    <tr>\n",
       "      <th>1</th>\n",
       "      <td>2020-07-11</td>\n",
       "      <td>Albany Wyoming</td>\n",
       "      <td>56001</td>\n",
       "      <td>49</td>\n",
       "      <td>2</td>\n",
       "      <td>1</td>\n",
       "      <td>0</td>\n",
       "      <td>49</td>\n",
       "    </tr>\n",
       "    <tr>\n",
       "      <th>2</th>\n",
       "      <td>2020-07-12</td>\n",
       "      <td>Albany Wyoming</td>\n",
       "      <td>56001</td>\n",
       "      <td>49</td>\n",
       "      <td>3</td>\n",
       "      <td>1</td>\n",
       "      <td>0</td>\n",
       "      <td>49</td>\n",
       "    </tr>\n",
       "    <tr>\n",
       "      <th>3</th>\n",
       "      <td>2020-07-13</td>\n",
       "      <td>Albany Wyoming</td>\n",
       "      <td>56001</td>\n",
       "      <td>49</td>\n",
       "      <td>4</td>\n",
       "      <td>1</td>\n",
       "      <td>0</td>\n",
       "      <td>49</td>\n",
       "    </tr>\n",
       "    <tr>\n",
       "      <th>4</th>\n",
       "      <td>2020-07-14</td>\n",
       "      <td>Albany Wyoming</td>\n",
       "      <td>56001</td>\n",
       "      <td>52</td>\n",
       "      <td>5</td>\n",
       "      <td>1</td>\n",
       "      <td>0</td>\n",
       "      <td>52</td>\n",
       "    </tr>\n",
       "  </tbody>\n",
       "</table>\n",
       "</div>"
      ],
      "text/plain": [
       "         date          county   fips  ...  county_num  treatment_indicator  x_cases\n",
       "0  2020-07-10  Albany Wyoming  56001  ...           1                    0       45\n",
       "1  2020-07-11  Albany Wyoming  56001  ...           1                    0       49\n",
       "2  2020-07-12  Albany Wyoming  56001  ...           1                    0       49\n",
       "3  2020-07-13  Albany Wyoming  56001  ...           1                    0       49\n",
       "4  2020-07-14  Albany Wyoming  56001  ...           1                    0       52\n",
       "\n",
       "[5 rows x 8 columns]"
      ]
     },
     "execution_count": 9,
     "metadata": {
      "tags": []
     },
     "output_type": "execute_result"
    }
   ],
   "source": [
    "counties = most_similar.county.unique() \n",
    "mapping = {counties[i]: i+1 for i in range(len(counties))}  \n",
    "\n",
    "most_similar[\"county_num\"] = most_similar.county.map(mapping) \n",
    "\n",
    "most_similar.head()"
   ]
  },
  {
   "cell_type": "code",
   "execution_count": 10,
   "metadata": {
    "colab": {
     "base_uri": "https://localhost:8080/",
     "height": 142
    },
    "executionInfo": {
     "elapsed": 842,
     "status": "ok",
     "timestamp": 1606948326722,
     "user": {
      "displayName": "Walker Hughes",
      "photoUrl": "",
      "userId": "08972844504083878600"
     },
     "user_tz": 420
    },
    "id": "GIugOvqhlSkb",
    "outputId": "8e74d21f-6dcb-4cf2-e081-e0217f8b99fe"
   },
   "outputs": [
    {
     "data": {
      "text/html": [
       "<div>\n",
       "<style scoped>\n",
       "    .dataframe tbody tr th:only-of-type {\n",
       "        vertical-align: middle;\n",
       "    }\n",
       "\n",
       "    .dataframe tbody tr th {\n",
       "        vertical-align: top;\n",
       "    }\n",
       "\n",
       "    .dataframe thead th {\n",
       "        text-align: right;\n",
       "    }\n",
       "</style>\n",
       "<table border=\"1\" class=\"dataframe\">\n",
       "  <thead>\n",
       "    <tr style=\"text-align: right;\">\n",
       "      <th></th>\n",
       "      <th>date</th>\n",
       "      <th>county</th>\n",
       "      <th>fips</th>\n",
       "      <th>cases</th>\n",
       "      <th>time_index</th>\n",
       "      <th>county_num</th>\n",
       "      <th>treatment_indicator</th>\n",
       "      <th>x_cases</th>\n",
       "    </tr>\n",
       "  </thead>\n",
       "  <tbody>\n",
       "    <tr>\n",
       "      <th>1100</th>\n",
       "      <td>2020-07-10</td>\n",
       "      <td>Meade South Dakota</td>\n",
       "      <td>46093</td>\n",
       "      <td>53</td>\n",
       "      <td>1</td>\n",
       "      <td>21</td>\n",
       "      <td>1</td>\n",
       "      <td>53</td>\n",
       "    </tr>\n",
       "    <tr>\n",
       "      <th>1101</th>\n",
       "      <td>2020-07-11</td>\n",
       "      <td>Meade South Dakota</td>\n",
       "      <td>46093</td>\n",
       "      <td>53</td>\n",
       "      <td>2</td>\n",
       "      <td>21</td>\n",
       "      <td>1</td>\n",
       "      <td>53</td>\n",
       "    </tr>\n",
       "    <tr>\n",
       "      <th>1102</th>\n",
       "      <td>2020-07-12</td>\n",
       "      <td>Meade South Dakota</td>\n",
       "      <td>46093</td>\n",
       "      <td>53</td>\n",
       "      <td>3</td>\n",
       "      <td>21</td>\n",
       "      <td>1</td>\n",
       "      <td>53</td>\n",
       "    </tr>\n",
       "  </tbody>\n",
       "</table>\n",
       "</div>"
      ],
      "text/plain": [
       "            date              county  ...  treatment_indicator  x_cases\n",
       "1100  2020-07-10  Meade South Dakota  ...                    1       53\n",
       "1101  2020-07-11  Meade South Dakota  ...                    1       53\n",
       "1102  2020-07-12  Meade South Dakota  ...                    1       53\n",
       "\n",
       "[3 rows x 8 columns]"
      ]
     },
     "execution_count": 10,
     "metadata": {
      "tags": []
     },
     "output_type": "execute_result"
    }
   ],
   "source": [
    "most_similar[most_similar.county == \"Meade South Dakota\"].head(3)"
   ]
  },
  {
   "cell_type": "code",
   "execution_count": 11,
   "metadata": {
    "executionInfo": {
     "elapsed": 426,
     "status": "ok",
     "timestamp": 1606948359902,
     "user": {
      "displayName": "Walker Hughes",
      "photoUrl": "",
      "userId": "08972844504083878600"
     },
     "user_tz": 420
    },
    "id": "538y4cIdlYnI"
   },
   "outputs": [],
   "source": [
    "most_similar.to_csv(\"top_35_similar.csv\") "
   ]
  },
  {
   "cell_type": "code",
   "execution_count": 12,
   "metadata": {
    "colab": {
     "base_uri": "https://localhost:8080/"
    },
    "executionInfo": {
     "elapsed": 1056,
     "status": "ok",
     "timestamp": 1606948408867,
     "user": {
      "displayName": "Walker Hughes",
      "photoUrl": "",
      "userId": "08972844504083878600"
     },
     "user_tz": 420
    },
    "id": "pP5rId1llgzr",
    "outputId": "2904a390-5f0f-45cb-9d3a-9bde47403132"
   },
   "outputs": [
    {
     "data": {
      "text/plain": [
       "{'Albany Wyoming': 1,\n",
       " 'Barnes North Dakota': 2,\n",
       " 'Boone Nebraska': 3,\n",
       " 'Creek Oklahoma': 4,\n",
       " 'Cumberland Illinois': 5,\n",
       " 'Custer South Dakota': 6,\n",
       " 'Donley Texas': 7,\n",
       " 'Echols Georgia': 8,\n",
       " 'Fairbanks North Star Borough Alaska': 9,\n",
       " 'Fayette Alabama': 10,\n",
       " 'Ford Kansas': 11,\n",
       " 'Gilmer West Virginia': 12,\n",
       " 'Gray Texas': 13,\n",
       " 'Haakon South Dakota': 14,\n",
       " 'Hansford Texas': 15,\n",
       " 'Harding South Dakota': 16,\n",
       " 'Hodgeman Kansas': 17,\n",
       " 'Hyde South Dakota': 18,\n",
       " 'Laurens South Carolina': 19,\n",
       " 'Lowndes Georgia': 20,\n",
       " 'Meade South Dakota': 21,\n",
       " 'Mississippi Missouri': 22,\n",
       " 'Montgomery Georgia': 23,\n",
       " 'Potter South Dakota': 24,\n",
       " 'Pulaski Illinois': 25,\n",
       " 'Reno Kansas': 26,\n",
       " 'Rogers Oklahoma': 27,\n",
       " 'Schuyler Illinois': 28,\n",
       " 'Simpson Kentucky': 29,\n",
       " 'Taylor Georgia': 30,\n",
       " 'Telfair Georgia': 31,\n",
       " 'Toombs Georgia': 32,\n",
       " 'Vermillion Indiana': 33,\n",
       " 'Wheeler Georgia': 34,\n",
       " 'Wythe Virginia': 35,\n",
       " 'Ziebach South Dakota': 36}"
      ]
     },
     "execution_count": 12,
     "metadata": {
      "tags": []
     },
     "output_type": "execute_result"
    }
   ],
   "source": [
    "mapping"
   ]
  },
  {
   "cell_type": "code",
   "execution_count": 32,
   "metadata": {
    "executionInfo": {
     "elapsed": 355,
     "status": "ok",
     "timestamp": 1606949325608,
     "user": {
      "displayName": "Walker Hughes",
      "photoUrl": "",
      "userId": "08972844504083878600"
     },
     "user_tz": 420
    },
    "id": "HumiBytKpJrI"
   },
   "outputs": [],
   "source": [
    "import matplotlib.pyplot as plt"
   ]
  },
  {
   "cell_type": "code",
   "execution_count": 14,
   "metadata": {
    "executionInfo": {
     "elapsed": 425,
     "status": "ok",
     "timestamp": 1606949090626,
     "user": {
      "displayName": "Walker Hughes",
      "photoUrl": "",
      "userId": "08972844504083878600"
     },
     "user_tz": 420
    },
    "id": "h4-cl_mIlsm0"
   },
   "outputs": [],
   "source": [
    "weights = np.array([0.014701093, 0.016216236, 0.023323901 , 0.010508165, 0.015707347, 0.018144208, 0.015727017, 0.012261285, \n",
    "                    0.010395400, 0.013335404, 0.003593107, 0.018214037, 0.013065708, 0.093296610, 0.015337737, 0.270762944, \n",
    "                    0.019891413, 0.043329675, 0.006255825, 0.003004090, 0.013768470, 0.014103722, 0.160949450, 0.014309772, \n",
    "                    0.012557615, 0.008632905, 0.018086558, 0.013740612, 0.015067168, 0.012086145, 0.009325771, 0.016331361, \n",
    "                    0.014581356, 0.014416250, 0.024971644]) "
   ]
  },
  {
   "cell_type": "code",
   "execution_count": 15,
   "metadata": {
    "executionInfo": {
     "elapsed": 697,
     "status": "ok",
     "timestamp": 1606949129947,
     "user": {
      "displayName": "Walker Hughes",
      "photoUrl": "",
      "userId": "08972844504083878600"
     },
     "user_tz": 420
    },
    "id": "0EEZfdmWoLek"
   },
   "outputs": [],
   "source": [
    "meade_cases = most_similar[most_similar.county == \"Meade South Dakota\"].cases"
   ]
  },
  {
   "cell_type": "code",
   "execution_count": 17,
   "metadata": {
    "executionInfo": {
     "elapsed": 690,
     "status": "ok",
     "timestamp": 1606949150225,
     "user": {
      "displayName": "Walker Hughes",
      "photoUrl": "",
      "userId": "08972844504083878600"
     },
     "user_tz": 420
    },
    "id": "hdSSoSWCocvu"
   },
   "outputs": [],
   "source": [
    "control_cases = most_similar[most_similar.county != \"Meade South Dakota\"].cases"
   ]
  },
  {
   "cell_type": "code",
   "execution_count": 30,
   "metadata": {
    "executionInfo": {
     "elapsed": 563,
     "status": "ok",
     "timestamp": 1606949295431,
     "user": {
      "displayName": "Walker Hughes",
      "photoUrl": "",
      "userId": "08972844504083878600"
     },
     "user_tz": 420
    },
    "id": "pnP5Os0zoeTr"
   },
   "outputs": [],
   "source": [
    "synthetic = np.dot(control_cases.values.reshape(35, 55).T, weights) "
   ]
  },
  {
   "cell_type": "code",
   "execution_count": 47,
   "metadata": {
    "colab": {
     "base_uri": "https://localhost:8080/",
     "height": 500
    },
    "executionInfo": {
     "elapsed": 851,
     "status": "ok",
     "timestamp": 1606949818507,
     "user": {
      "displayName": "Walker Hughes",
      "photoUrl": "",
      "userId": "08972844504083878600"
     },
     "user_tz": 420
    },
    "id": "ScHoR-qgokAP",
    "outputId": "1b80bd20-b47a-499e-dcf7-aca6debd8e8a"
   },
   "outputs": [
    {
     "data": {
      "text/plain": [
       "[<matplotlib.lines.Line2D at 0x7ff11186ca20>]"
      ]
     },
     "execution_count": 47,
     "metadata": {
      "tags": []
     },
     "output_type": "execute_result"
    },
    {
     "data": {
      "image/png": "[encoded data removed]",
      "text/plain": [
       "<Figure size 864x576 with 1 Axes>"
      ]
     },
     "metadata": {
      "needs_background": "light",
      "tags": []
     },
     "output_type": "display_data"
    }
   ],
   "source": [
    "plt.figure(figsize = (12, 8))\n",
    "plt.plot(days, meade_cases.values) \n",
    "plt.plot(days, synthetic) "
   ]
  },
  {
   "cell_type": "code",
   "execution_count": 36,
   "metadata": {
    "colab": {
     "base_uri": "https://localhost:8080/"
    },
    "executionInfo": {
     "elapsed": 468,
     "status": "ok",
     "timestamp": 1606949365067,
     "user": {
      "displayName": "Walker Hughes",
      "photoUrl": "",
      "userId": "08972844504083878600"
     },
     "user_tz": 420
    },
    "id": "r1YcX9Wpo2dS",
    "outputId": "89a6d508-ba2c-49ec-a88f-7e8e73a12b8e"
   },
   "outputs": [
    {
     "data": {
      "text/plain": [
       "array([ 46.47956429,  47.70818289,  48.49976272,  49.52956184,\n",
       "        50.65577523,  51.83857683,  53.1827117 ,  54.43137615,\n",
       "        56.05950492,  56.91570819,  58.14940786,  59.42456897,\n",
       "        61.13411563,  62.73642092,  64.59705934,  65.95181836,\n",
       "        67.49739489,  68.96715736,  70.47403239,  71.79102468,\n",
       "        73.56968514,  75.27247361,  76.61684049,  77.47921106,\n",
       "        78.69591629,  79.68463437,  81.26076126,  82.91444642,\n",
       "        85.51919044,  86.82590957,  87.82852413,  88.92856501,\n",
       "        90.41880181,  92.78777405,  94.98176284,  96.65874807,\n",
       "        98.06291708,  99.52053984, 100.9127236 , 102.32522218,\n",
       "       104.28973334, 106.00813453, 107.93122149, 109.84131582,\n",
       "       111.3908142 , 112.51916744, 113.82390262, 115.62253638,\n",
       "       117.91011304, 119.75126056, 122.68258259, 124.59895569,\n",
       "       126.11088883, 127.17755176, 129.68808063])"
      ]
     },
     "execution_count": 36,
     "metadata": {
      "tags": []
     },
     "output_type": "execute_result"
    }
   ],
   "source": [
    "synthetic"
   ]
  },
  {
   "cell_type": "code",
   "execution_count": 38,
   "metadata": {
    "colab": {
     "base_uri": "https://localhost:8080/"
    },
    "executionInfo": {
     "elapsed": 550,
     "status": "ok",
     "timestamp": 1606949377583,
     "user": {
      "displayName": "Walker Hughes",
      "photoUrl": "",
      "userId": "08972844504083878600"
     },
     "user_tz": 420
    },
    "id": "4XU8RsAJpWNH",
    "outputId": "509f625b-c847-4ded-875a-5c6846263bb3"
   },
   "outputs": [
    {
     "data": {
      "text/plain": [
       "array([ 53,  53,  53,  54,  54,  54,  58,  58,  58,  58,  58,  59,  60,\n",
       "        63,  64,  63,  65,  67,  67,  68,  69,  71,  71,  74,  76,  78,\n",
       "        82,  82,  87,  91,  94,  94,  96,  97,  98,  97,  97, 104, 106,\n",
       "       112, 120, 127, 138, 152, 164, 170, 176, 179, 247, 261, 279, 294,\n",
       "       300, 305, 317])"
      ]
     },
     "execution_count": 38,
     "metadata": {
      "tags": []
     },
     "output_type": "execute_result"
    }
   ],
   "source": [
    "meade_cases.values"
   ]
  },
  {
   "cell_type": "code",
   "execution_count": 44,
   "metadata": {
    "colab": {
     "base_uri": "https://localhost:8080/"
    },
    "executionInfo": {
     "elapsed": 405,
     "status": "ok",
     "timestamp": 1606949486925,
     "user": {
      "displayName": "Walker Hughes",
      "photoUrl": "",
      "userId": "08972844504083878600"
     },
     "user_tz": 420
    },
    "id": "jlcBMrqCpXlg",
    "outputId": "da5da2d6-4cb0-4e73-ebfc-25b3c8d84d2e"
   },
   "outputs": [
    {
     "data": {
      "text/plain": [
       "452.33363966823083"
      ]
     },
     "execution_count": 44,
     "metadata": {
      "tags": []
     },
     "output_type": "execute_result"
    }
   ],
   "source": [
    "norm(synthetic - meade_cases.values, ord = 2)"
   ]
  },
  {
   "cell_type": "code",
   "execution_count": 48,
   "metadata": {
    "executionInfo": {
     "elapsed": 950,
     "status": "ok",
     "timestamp": 1606955430650,
     "user": {
      "displayName": "Walker Hughes",
      "photoUrl": "",
      "userId": "08972844504083878600"
     },
     "user_tz": 420
    },
    "id": "_2PPOGVkpww6"
   },
   "outputs": [],
   "source": [
    "temp = most_similar[most_similar.county.isin(most_similar.county.unique().tolist()[: 21])] "
   ]
  },
  {
   "cell_type": "code",
   "execution_count": 49,
   "metadata": {
    "colab": {
     "base_uri": "https://localhost:8080/",
     "height": 204
    },
    "executionInfo": {
     "elapsed": 454,
     "status": "ok",
     "timestamp": 1606955438449,
     "user": {
      "displayName": "Walker Hughes",
      "photoUrl": "",
      "userId": "08972844504083878600"
     },
     "user_tz": 420
    },
    "id": "vsO9zABPAe79",
    "outputId": "53c09c6c-1414-464a-dea5-2b0242c365f0"
   },
   "outputs": [
    {
     "data": {
      "text/html": [
       "<div>\n",
       "<style scoped>\n",
       "    .dataframe tbody tr th:only-of-type {\n",
       "        vertical-align: middle;\n",
       "    }\n",
       "\n",
       "    .dataframe tbody tr th {\n",
       "        vertical-align: top;\n",
       "    }\n",
       "\n",
       "    .dataframe thead th {\n",
       "        text-align: right;\n",
       "    }\n",
       "</style>\n",
       "<table border=\"1\" class=\"dataframe\">\n",
       "  <thead>\n",
       "    <tr style=\"text-align: right;\">\n",
       "      <th></th>\n",
       "      <th>date</th>\n",
       "      <th>county</th>\n",
       "      <th>fips</th>\n",
       "      <th>cases</th>\n",
       "      <th>time_index</th>\n",
       "      <th>county_num</th>\n",
       "      <th>treatment_indicator</th>\n",
       "      <th>x_cases</th>\n",
       "    </tr>\n",
       "  </thead>\n",
       "  <tbody>\n",
       "    <tr>\n",
       "      <th>0</th>\n",
       "      <td>2020-07-10</td>\n",
       "      <td>Albany Wyoming</td>\n",
       "      <td>56001</td>\n",
       "      <td>45</td>\n",
       "      <td>1</td>\n",
       "      <td>1</td>\n",
       "      <td>0</td>\n",
       "      <td>45</td>\n",
       "    </tr>\n",
       "    <tr>\n",
       "      <th>1</th>\n",
       "      <td>2020-07-11</td>\n",
       "      <td>Albany Wyoming</td>\n",
       "      <td>56001</td>\n",
       "      <td>49</td>\n",
       "      <td>2</td>\n",
       "      <td>1</td>\n",
       "      <td>0</td>\n",
       "      <td>49</td>\n",
       "    </tr>\n",
       "    <tr>\n",
       "      <th>2</th>\n",
       "      <td>2020-07-12</td>\n",
       "      <td>Albany Wyoming</td>\n",
       "      <td>56001</td>\n",
       "      <td>49</td>\n",
       "      <td>3</td>\n",
       "      <td>1</td>\n",
       "      <td>0</td>\n",
       "      <td>49</td>\n",
       "    </tr>\n",
       "    <tr>\n",
       "      <th>3</th>\n",
       "      <td>2020-07-13</td>\n",
       "      <td>Albany Wyoming</td>\n",
       "      <td>56001</td>\n",
       "      <td>49</td>\n",
       "      <td>4</td>\n",
       "      <td>1</td>\n",
       "      <td>0</td>\n",
       "      <td>49</td>\n",
       "    </tr>\n",
       "    <tr>\n",
       "      <th>4</th>\n",
       "      <td>2020-07-14</td>\n",
       "      <td>Albany Wyoming</td>\n",
       "      <td>56001</td>\n",
       "      <td>52</td>\n",
       "      <td>5</td>\n",
       "      <td>1</td>\n",
       "      <td>0</td>\n",
       "      <td>52</td>\n",
       "    </tr>\n",
       "  </tbody>\n",
       "</table>\n",
       "</div>"
      ],
      "text/plain": [
       "         date          county   fips  ...  county_num  treatment_indicator  x_cases\n",
       "0  2020-07-10  Albany Wyoming  56001  ...           1                    0       45\n",
       "1  2020-07-11  Albany Wyoming  56001  ...           1                    0       49\n",
       "2  2020-07-12  Albany Wyoming  56001  ...           1                    0       49\n",
       "3  2020-07-13  Albany Wyoming  56001  ...           1                    0       49\n",
       "4  2020-07-14  Albany Wyoming  56001  ...           1                    0       52\n",
       "\n",
       "[5 rows x 8 columns]"
      ]
     },
     "execution_count": 49,
     "metadata": {
      "tags": []
     },
     "output_type": "execute_result"
    }
   ],
   "source": [
    "temp.head()"
   ]
  },
  {
   "cell_type": "code",
   "execution_count": null,
   "metadata": {
    "id": "3jolJWJDAg94"
   },
   "outputs": [],
   "source": []
  }
 ],
 "metadata": {
  "colab": {
   "authorship_tag": "ABX9TyNbqvc27hk566WGClPT+htm",
   "collapsed_sections": [],
   "name": "data_prep.ipynb",
   "provenance": []
  },
  "kernelspec": {
   "display_name": "Python 3",
   "language": "python",
   "name": "python3"
  },
  "language_info": {
   "codemirror_mode": {
    "name": "ipython",
    "version": 3
   },
   "file_extension": ".py",
   "mimetype": "text/x-python",
   "name": "python",
   "nbconvert_exporter": "python",
   "pygments_lexer": "ipython3",
   "version": "3.7.3"
  }
 },
 "nbformat": 4,
 "nbformat_minor": 1
}
